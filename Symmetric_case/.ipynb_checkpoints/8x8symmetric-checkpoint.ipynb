{
 "cells": [
  {
   "cell_type": "code",
   "execution_count": 60,
   "metadata": {},
   "outputs": [],
   "source": [
    "import pandas as pd\n",
    "import numpy as np\n",
    "import math"
   ]
  },
  {
   "cell_type": "code",
   "execution_count": 61,
   "metadata": {},
   "outputs": [],
   "source": [
    "from sympy import *"
   ]
  },
  {
   "cell_type": "code",
   "execution_count": 62,
   "metadata": {},
   "outputs": [],
   "source": [
    "# Se importa el archivo\n",
    "df = pd.read_csv('8x8comp.txt', skiprows=4, header=None)\n",
    "\n",
    "# Se agregan las cabeceras de las columnas\n",
    "df.columns = ['klm', 'k1l1m1', 'k2l2m2', 'cg_coef', 'multiplet', 'degeneracy']\n",
    "\n",
    "# Se eliminan las filas con valores NaN\n",
    "df = df.dropna()\n",
    "\n",
    "# Convierte la columna \"degeneracy\" en tipo int\n",
    "df = df.astype({\"degeneracy\":int})\n",
    "\n",
    "# Retorna una lista con los multipletes existentes\n",
    "multiplets = df['multiplet'].value_counts().index.tolist() "
   ]
  },
  {
   "cell_type": "code",
   "execution_count": 64,
   "metadata": {},
   "outputs": [],
   "source": [
    "# Función para separar el dataframe en multipletes\n",
    "def divide_df(multiplet_i, dataf, headerc):\n",
    "    df_multiplet = dataf[dataf[headerc] == multiplet_i]\n",
    "    return df_multiplet"
   ]
  },
  {
   "cell_type": "code",
   "execution_count": 74,
   "metadata": {},
   "outputs": [],
   "source": [
    "# Retorna solo las filas con el multiplete indicado en la función\n",
    "m = divide_df(multiplets[0], df, 'multiplet')\n",
    "\n",
    "# Retorna una lista con las degeneraciones del multiplete m\n",
    "degeneracy = m['degeneracy'].value_counts().index.tolist()\n",
    "\n",
    "# Divide el multiplete en data frame por degeneraciones\n",
    "d = divide_df(degeneracy[0], m, 'degeneracy')"
   ]
  },
  {
   "cell_type": "markdown",
   "metadata": {},
   "source": [
    "Si se quisiera eliminar columnas con dropna: \n",
    "~~~\n",
    "df.dropna(axis='name of the axis'/'all')\n",
    "~~~"
   ]
  },
  {
   "cell_type": "markdown",
   "metadata": {},
   "source": [
    "Otra opción para búsqueda en el data frame:\n",
    "~~~\n",
    "d = '11'\n",
    "\n",
    "df.query('multiplet == @d')\n",
    "~~~\n",
    "o\n",
    "~~~\n",
    "filter1 = df['klm'] == '300'\n",
    "df[filter1]\n",
    "~~~\n",
    "ó\n",
    "~~~\n",
    "is_11 = df.loc[:,'multiplet'] == '11'\n",
    "df_11 = df.loc[is_11]\n",
    "df_11.head()\n",
    "~~~"
   ]
  },
  {
   "cell_type": "code",
   "execution_count": 63,
   "metadata": {},
   "outputs": [
    {
     "data": {
      "text/latex": [
       "$\\displaystyle - \\frac{\\sqrt{2}}{2}$"
      ],
      "text/plain": [
       "-sqrt(2)/2"
      ]
     },
     "execution_count": 63,
     "metadata": {},
     "output_type": "execute_result"
    }
   ],
   "source": [
    "initial1 = '100'\n",
    "dfi1 = df.query('k1l1m1 == @initial1')\n",
    "initial2 = '200'\n",
    "dfi2 = dfi1.query('k2l2m2 == @initial2')\n",
    "dfi2\n",
    "final = '300'\n",
    "dff = dfi2.query('klm == @final')\n",
    "dff\n",
    "multipletd = '03'\n",
    "dfm = dff.query('multiplet == @multipletd')\n",
    "dfm\n",
    "cgc_str=dfm.loc[:,'cg_coef'].values[0]\n",
    "#cgc_str\n",
    "cgc = parse_expr(cgc_str, evaluate=0)\n",
    "cgc"
   ]
  },
  {
   "cell_type": "code",
   "execution_count": 90,
   "metadata": {},
   "outputs": [],
   "source": [
    "# Calcula el cgc para un caso específico dentro de un df dividido\n",
    "def cgc_md(i1, i2, f, ddf):\n",
    "    initial1 = i1\n",
    "    dfi1 = ddf.query('k1l1m1 == @initial1')\n",
    "    initial2 = i2\n",
    "    dfi2 = dfi1.query('k2l2m2 == @initial2')\n",
    "    dfi2\n",
    "    final = f\n",
    "    dff = dfi2.query('klm == @final')\n",
    "    cgc_str=dff.loc[:,'cg_coef'].values[0]\n",
    "    cgc_str\n",
    "    cgc = parse_expr(cgc_str, evaluate=0)\n",
    "    return cgc\n",
    "\n",
    "# Verifica si el df dividido es simétrico o antisimétrico\n",
    "def is_symmetric(particle1, particle2, particlef, sdf):\n",
    "    p1 = sdf['k1l1m1'].head(1).values[0]\n",
    "    p2 = sdf['k2l2m2'].head(1).values[0]\n",
    "    pf = sdf['klm'].head(1).values[0]\n",
    "    val1 = cgc_md(particle1, particle2, productof, sdf)\n",
    "    val2 = cgc_md(particle2, particle1, productof, sdf)\n",
    "    if val1 == val2:\n",
    "        return 'S'\n",
    "    else:\n",
    "        return 'A'"
   ]
  },
  {
   "cell_type": "code",
   "execution_count": 91,
   "metadata": {},
   "outputs": [
    {
     "data": {
      "text/plain": [
       "'A'"
      ]
     },
     "execution_count": 91,
     "metadata": {},
     "output_type": "execute_result"
    }
   ],
   "source": [
    "#print(particle1, particle2, productof)\n",
    "is_symmetric(p1,p2,pf,d)"
   ]
  },
  {
   "cell_type": "code",
   "execution_count": 92,
   "metadata": {},
   "outputs": [
    {
     "data": {
      "text/plain": [
       "[2, 1]"
      ]
     },
     "execution_count": 92,
     "metadata": {},
     "output_type": "execute_result"
    }
   ],
   "source": [
    "degeneracy"
   ]
  },
  {
   "cell_type": "code",
   "execution_count": 101,
   "metadata": {},
   "outputs": [
    {
     "name": "stdout",
     "output_type": "stream",
     "text": [
      "S\n",
      "A\n"
     ]
    },
    {
     "data": {
      "text/plain": [
       "['S', 'A']"
      ]
     },
     "execution_count": 101,
     "metadata": {},
     "output_type": "execute_result"
    }
   ],
   "source": [
    "Symmetry = []\n",
    "Multiplets = []\n",
    "for i in range(len(degeneracy)):\n",
    "    d = divide_df(degeneracy[i], m, 'degeneracy')\n",
    "    Symmetry.append(is_symmetric(p1,p2,pf,d))\n",
    "    Multiplets.append(multiplets[0])\n",
    "    print(is_symmetric(p1,p2,pf,d))\n",
    "Symmetry"
   ]
  },
  {
   "cell_type": "code",
   "execution_count": 102,
   "metadata": {},
   "outputs": [
    {
     "data": {
      "text/plain": [
       "['11', '11']"
      ]
     },
     "execution_count": 102,
     "metadata": {},
     "output_type": "execute_result"
    }
   ],
   "source": [
    "Multiplets"
   ]
  },
  {
   "cell_type": "code",
   "execution_count": 103,
   "metadata": {},
   "outputs": [
    {
     "data": {
      "text/plain": [
       "[2, 1]"
      ]
     },
     "execution_count": 103,
     "metadata": {},
     "output_type": "execute_result"
    }
   ],
   "source": [
    "Degeneracy = degeneracy\n",
    "Degeneracy"
   ]
  },
  {
   "cell_type": "code",
   "execution_count": 104,
   "metadata": {},
   "outputs": [
    {
     "data": {
      "text/html": [
       "<div>\n",
       "<style scoped>\n",
       "    .dataframe tbody tr th:only-of-type {\n",
       "        vertical-align: middle;\n",
       "    }\n",
       "\n",
       "    .dataframe tbody tr th {\n",
       "        vertical-align: top;\n",
       "    }\n",
       "\n",
       "    .dataframe thead th {\n",
       "        text-align: right;\n",
       "    }\n",
       "</style>\n",
       "<table border=\"1\" class=\"dataframe\">\n",
       "  <thead>\n",
       "    <tr style=\"text-align: right;\">\n",
       "      <th></th>\n",
       "      <th>multiplet</th>\n",
       "      <th>degeneracy</th>\n",
       "      <th>is_symm</th>\n",
       "    </tr>\n",
       "  </thead>\n",
       "  <tbody>\n",
       "    <tr>\n",
       "      <th>0</th>\n",
       "      <td>11</td>\n",
       "      <td>2</td>\n",
       "      <td>S</td>\n",
       "    </tr>\n",
       "    <tr>\n",
       "      <th>1</th>\n",
       "      <td>11</td>\n",
       "      <td>1</td>\n",
       "      <td>A</td>\n",
       "    </tr>\n",
       "  </tbody>\n",
       "</table>\n",
       "</div>"
      ],
      "text/plain": [
       "  multiplet  degeneracy is_symm\n",
       "0        11           2       S\n",
       "1        11           1       A"
      ]
     },
     "execution_count": 104,
     "metadata": {},
     "output_type": "execute_result"
    }
   ],
   "source": [
    "df_describe = pd.DataFrame()\n",
    "df_describe['multiplet'] = Multiplets\n",
    "df_describe['degeneracy'] = Degeneracy\n",
    "df_describe['is_symm'] = Symmetry\n",
    "df_describe"
   ]
  },
  {
   "cell_type": "code",
   "execution_count": 69,
   "metadata": {},
   "outputs": [
    {
     "data": {
      "text/plain": [
       "['11', '22', '30', '03', '00']"
      ]
     },
     "execution_count": 69,
     "metadata": {},
     "output_type": "execute_result"
    }
   ],
   "source": [
    "multiplets"
   ]
  },
  {
   "cell_type": "code",
   "execution_count": 98,
   "metadata": {},
   "outputs": [
    {
     "data": {
      "text/plain": [
       "'11'"
      ]
     },
     "execution_count": 98,
     "metadata": {},
     "output_type": "execute_result"
    }
   ],
   "source": [
    "multiplets[0]"
   ]
  },
  {
   "cell_type": "code",
   "execution_count": 56,
   "metadata": {},
   "outputs": [
    {
     "data": {
      "text/html": [
       "<div>\n",
       "<style scoped>\n",
       "    .dataframe tbody tr th:only-of-type {\n",
       "        vertical-align: middle;\n",
       "    }\n",
       "\n",
       "    .dataframe tbody tr th {\n",
       "        vertical-align: top;\n",
       "    }\n",
       "\n",
       "    .dataframe thead th {\n",
       "        text-align: right;\n",
       "    }\n",
       "</style>\n",
       "<table border=\"1\" class=\"dataframe\">\n",
       "  <thead>\n",
       "    <tr style=\"text-align: right;\">\n",
       "      <th></th>\n",
       "      <th>multiplet</th>\n",
       "      <th>degeneracy</th>\n",
       "      <th>is_symm</th>\n",
       "    </tr>\n",
       "  </thead>\n",
       "  <tbody>\n",
       "    <tr>\n",
       "      <th>0</th>\n",
       "      <td>11</td>\n",
       "      <td>1</td>\n",
       "      <td>A</td>\n",
       "    </tr>\n",
       "    <tr>\n",
       "      <th>1</th>\n",
       "      <td>11</td>\n",
       "      <td>2</td>\n",
       "      <td>S</td>\n",
       "    </tr>\n",
       "    <tr>\n",
       "      <th>2</th>\n",
       "      <td>22</td>\n",
       "      <td>1</td>\n",
       "      <td>A</td>\n",
       "    </tr>\n",
       "    <tr>\n",
       "      <th>3</th>\n",
       "      <td>30</td>\n",
       "      <td>1</td>\n",
       "      <td>S</td>\n",
       "    </tr>\n",
       "    <tr>\n",
       "      <th>4</th>\n",
       "      <td>03</td>\n",
       "      <td>1</td>\n",
       "      <td>S</td>\n",
       "    </tr>\n",
       "    <tr>\n",
       "      <th>5</th>\n",
       "      <td>00</td>\n",
       "      <td>1</td>\n",
       "      <td>A</td>\n",
       "    </tr>\n",
       "  </tbody>\n",
       "</table>\n",
       "</div>"
      ],
      "text/plain": [
       "  multiplet degeneracy is_symm\n",
       "0        11          1       A\n",
       "1        11          2       S\n",
       "2        22          1       A\n",
       "3        30          1       S\n",
       "4        03          1       S\n",
       "5        00          1       A"
      ]
     },
     "execution_count": 56,
     "metadata": {},
     "output_type": "execute_result"
    }
   ],
   "source": [
    "df_describe = pd.DataFrame()\n",
    "df_describe['multiplet'] = ['11', '11', '22', '30', '03', '00']\n",
    "df_describe['degeneracy'] = ['1', '2', '1', '1', '1', '1']\n",
    "df_describe['is_symm'] = ['A', 'S', 'A', 'S', 'S', 'A']\n",
    "df_describe"
   ]
  },
  {
   "cell_type": "markdown",
   "metadata": {},
   "source": [
    "### TO DO \n",
    "1. Crear una función que verifique la simetría y devuelva los valores de \"multiplet\" y \"degeneracy\"\n",
    "    - Buscar como agregar valores a un array\n",
    "    - Crear dos listas, una de simetricos y otra de antisimetricos\n",
    "2. ~~Crear una función que calcule los coeficientes de cg mediante búsquedas en el data frame~~"
   ]
  },
  {
   "cell_type": "code",
   "execution_count": 41,
   "metadata": {},
   "outputs": [
    {
     "name": "stdout",
     "output_type": "stream",
     "text": [
      "11\n",
      "22\n",
      "30\n",
      "03\n",
      "00\n"
     ]
    }
   ],
   "source": [
    "for i in multiplets:\n",
    "    print(i)"
   ]
  },
  {
   "cell_type": "code",
   "execution_count": 31,
   "metadata": {},
   "outputs": [
    {
     "data": {
      "text/plain": [
       "list"
      ]
     },
     "execution_count": 31,
     "metadata": {},
     "output_type": "execute_result"
    }
   ],
   "source": [
    "type(multiplets)"
   ]
  },
  {
   "cell_type": "code",
   "execution_count": 35,
   "metadata": {},
   "outputs": [
    {
     "name": "stdout",
     "output_type": "stream",
     "text": [
      "[11, 22, 30, 3, 0]\n"
     ]
    }
   ],
   "source": [
    "nmultiplets =[]\n",
    "for i in range(len(multiplets)):\n",
    "    nmultiplets.append(int(multiplets[i]))\n",
    "print(nmultiplets)"
   ]
  },
  {
   "cell_type": "code",
   "execution_count": 38,
   "metadata": {},
   "outputs": [
    {
     "name": "stdout",
     "output_type": "stream",
     "text": [
      "11\n",
      "22\n",
      "30\n",
      "03\n",
      "00\n"
     ]
    }
   ],
   "source": [
    "for i in multiplets:\n",
    "    print (i)"
   ]
  },
  {
   "cell_type": "code",
   "execution_count": 40,
   "metadata": {},
   "outputs": [
    {
     "data": {
      "text/plain": [
       "[[], []]"
      ]
     },
     "execution_count": 40,
     "metadata": {},
     "output_type": "execute_result"
    }
   ],
   "source": [
    "array1 = [[],[]]\n",
    "array1"
   ]
  },
  {
   "cell_type": "code",
   "execution_count": null,
   "metadata": {},
   "outputs": [],
   "source": [
    "arra"
   ]
  }
 ],
 "metadata": {
  "kernelspec": {
   "display_name": "Python 3",
   "language": "python",
   "name": "python3"
  },
  "language_info": {
   "codemirror_mode": {
    "name": "ipython",
    "version": 3
   },
   "file_extension": ".py",
   "mimetype": "text/x-python",
   "name": "python",
   "nbconvert_exporter": "python",
   "pygments_lexer": "ipython3",
   "version": "3.8.5"
  }
 },
 "nbformat": 4,
 "nbformat_minor": 4
}
