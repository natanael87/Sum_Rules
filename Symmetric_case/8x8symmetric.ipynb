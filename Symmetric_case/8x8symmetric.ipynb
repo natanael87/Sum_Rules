{
 "cells": [
  {
   "cell_type": "code",
   "execution_count": 2,
   "metadata": {},
   "outputs": [],
   "source": [
    "import pandas as pd\n",
    "import numpy as np\n",
    "import math"
   ]
  },
  {
   "cell_type": "code",
   "execution_count": 8,
   "metadata": {},
   "outputs": [
    {
     "data": {
      "text/html": [
       "<div>\n",
       "<style scoped>\n",
       "    .dataframe tbody tr th:only-of-type {\n",
       "        vertical-align: middle;\n",
       "    }\n",
       "\n",
       "    .dataframe tbody tr th {\n",
       "        vertical-align: top;\n",
       "    }\n",
       "\n",
       "    .dataframe thead th {\n",
       "        text-align: right;\n",
       "    }\n",
       "</style>\n",
       "<table border=\"1\" class=\"dataframe\">\n",
       "  <thead>\n",
       "    <tr style=\"text-align: right;\">\n",
       "      <th></th>\n",
       "      <th>0</th>\n",
       "      <th>1</th>\n",
       "      <th>2</th>\n",
       "      <th>3</th>\n",
       "      <th>4</th>\n",
       "      <th>5</th>\n",
       "      <th>6</th>\n",
       "      <th>7</th>\n",
       "      <th>8</th>\n",
       "      <th>9</th>\n",
       "      <th>10</th>\n",
       "    </tr>\n",
       "  </thead>\n",
       "  <tbody>\n",
       "    <tr>\n",
       "      <th>0</th>\n",
       "      <td>NaN</td>\n",
       "      <td>NaN</td>\n",
       "      <td>NaN</td>\n",
       "      <td>NaN</td>\n",
       "      <td>(2,0,0)</td>\n",
       "      <td>:</td>\n",
       "      <td>(1,0,0)</td>\n",
       "      <td>x</td>\n",
       "      <td>(1,0,0)</td>\n",
       "      <td>=</td>\n",
       "      <td>sqrt(1)</td>\n",
       "    </tr>\n",
       "    <tr>\n",
       "      <th>1</th>\n",
       "      <td>NaN</td>\n",
       "      <td>NaN</td>\n",
       "      <td>NaN</td>\n",
       "      <td>NaN</td>\n",
       "      <td>(2,0,1)</td>\n",
       "      <td>:</td>\n",
       "      <td>(1,0,0)</td>\n",
       "      <td>x</td>\n",
       "      <td>(1,0,1)</td>\n",
       "      <td>=</td>\n",
       "      <td>sqrt(1/2)</td>\n",
       "    </tr>\n",
       "    <tr>\n",
       "      <th>2</th>\n",
       "      <td>NaN</td>\n",
       "      <td>NaN</td>\n",
       "      <td>NaN</td>\n",
       "      <td>NaN</td>\n",
       "      <td>(2,0,1)</td>\n",
       "      <td>:</td>\n",
       "      <td>(1,0,1)</td>\n",
       "      <td>x</td>\n",
       "      <td>(1,0,0)</td>\n",
       "      <td>=</td>\n",
       "      <td>sqrt(1/2)</td>\n",
       "    </tr>\n",
       "    <tr>\n",
       "      <th>3</th>\n",
       "      <td>NaN</td>\n",
       "      <td>NaN</td>\n",
       "      <td>NaN</td>\n",
       "      <td>NaN</td>\n",
       "      <td>(2,0,2)</td>\n",
       "      <td>:</td>\n",
       "      <td>(1,0,1)</td>\n",
       "      <td>x</td>\n",
       "      <td>(1,0,1)</td>\n",
       "      <td>=</td>\n",
       "      <td>sqrt(1)</td>\n",
       "    </tr>\n",
       "    <tr>\n",
       "      <th>4</th>\n",
       "      <td>NaN</td>\n",
       "      <td>NaN</td>\n",
       "      <td>NaN</td>\n",
       "      <td>NaN</td>\n",
       "      <td>(2,1,1)</td>\n",
       "      <td>:</td>\n",
       "      <td>(1,0,0)</td>\n",
       "      <td>x</td>\n",
       "      <td>(1,1,1)</td>\n",
       "      <td>=</td>\n",
       "      <td>sqrt(9/20)</td>\n",
       "    </tr>\n",
       "    <tr>\n",
       "      <th>...</th>\n",
       "      <td>...</td>\n",
       "      <td>...</td>\n",
       "      <td>...</td>\n",
       "      <td>...</td>\n",
       "      <td>...</td>\n",
       "      <td>...</td>\n",
       "      <td>...</td>\n",
       "      <td>...</td>\n",
       "      <td>...</td>\n",
       "      <td>...</td>\n",
       "      <td>...</td>\n",
       "    </tr>\n",
       "    <tr>\n",
       "      <th>89</th>\n",
       "      <td>NaN</td>\n",
       "      <td>NaN</td>\n",
       "      <td>NaN</td>\n",
       "      <td>NaN</td>\n",
       "      <td>(4,1,4)</td>\n",
       "      <td>:</td>\n",
       "      <td>(2,1,2)</td>\n",
       "      <td>x</td>\n",
       "      <td>(2,0,2)</td>\n",
       "      <td>=</td>\n",
       "      <td>sqrt(1/2)</td>\n",
       "    </tr>\n",
       "    <tr>\n",
       "      <th>90</th>\n",
       "      <td>NaN</td>\n",
       "      <td>NaN</td>\n",
       "      <td>NaN</td>\n",
       "      <td>NaN</td>\n",
       "      <td>(4,2,2)</td>\n",
       "      <td>:</td>\n",
       "      <td>(2,1,1)</td>\n",
       "      <td>x</td>\n",
       "      <td>(2,1,1)</td>\n",
       "      <td>=</td>\n",
       "      <td>sqrt(1)</td>\n",
       "    </tr>\n",
       "    <tr>\n",
       "      <th>91</th>\n",
       "      <td>NaN</td>\n",
       "      <td>NaN</td>\n",
       "      <td>NaN</td>\n",
       "      <td>NaN</td>\n",
       "      <td>(4,2,3)</td>\n",
       "      <td>:</td>\n",
       "      <td>(2,1,1)</td>\n",
       "      <td>x</td>\n",
       "      <td>(2,1,2)</td>\n",
       "      <td>=</td>\n",
       "      <td>sqrt(1/2)</td>\n",
       "    </tr>\n",
       "    <tr>\n",
       "      <th>92</th>\n",
       "      <td>NaN</td>\n",
       "      <td>NaN</td>\n",
       "      <td>NaN</td>\n",
       "      <td>NaN</td>\n",
       "      <td>(4,2,3)</td>\n",
       "      <td>:</td>\n",
       "      <td>(2,1,2)</td>\n",
       "      <td>x</td>\n",
       "      <td>(2,1,1)</td>\n",
       "      <td>=</td>\n",
       "      <td>sqrt(1/2)</td>\n",
       "    </tr>\n",
       "    <tr>\n",
       "      <th>93</th>\n",
       "      <td>NaN</td>\n",
       "      <td>NaN</td>\n",
       "      <td>NaN</td>\n",
       "      <td>NaN</td>\n",
       "      <td>(4,2,4)</td>\n",
       "      <td>:</td>\n",
       "      <td>(2,1,2)</td>\n",
       "      <td>x</td>\n",
       "      <td>(2,1,2)</td>\n",
       "      <td>=</td>\n",
       "      <td>sqrt(1)</td>\n",
       "    </tr>\n",
       "  </tbody>\n",
       "</table>\n",
       "<p>94 rows × 11 columns</p>\n",
       "</div>"
      ],
      "text/plain": [
       "    0   1   2   3        4  5        6  7        8  9           10\n",
       "0  NaN NaN NaN NaN  (2,0,0)  :  (1,0,0)  x  (1,0,0)  =     sqrt(1)\n",
       "1  NaN NaN NaN NaN  (2,0,1)  :  (1,0,0)  x  (1,0,1)  =   sqrt(1/2)\n",
       "2  NaN NaN NaN NaN  (2,0,1)  :  (1,0,1)  x  (1,0,0)  =   sqrt(1/2)\n",
       "3  NaN NaN NaN NaN  (2,0,2)  :  (1,0,1)  x  (1,0,1)  =     sqrt(1)\n",
       "4  NaN NaN NaN NaN  (2,1,1)  :  (1,0,0)  x  (1,1,1)  =  sqrt(9/20)\n",
       "..  ..  ..  ..  ..      ... ..      ... ..      ... ..         ...\n",
       "89 NaN NaN NaN NaN  (4,1,4)  :  (2,1,2)  x  (2,0,2)  =   sqrt(1/2)\n",
       "90 NaN NaN NaN NaN  (4,2,2)  :  (2,1,1)  x  (2,1,1)  =     sqrt(1)\n",
       "91 NaN NaN NaN NaN  (4,2,3)  :  (2,1,1)  x  (2,1,2)  =   sqrt(1/2)\n",
       "92 NaN NaN NaN NaN  (4,2,3)  :  (2,1,2)  x  (2,1,1)  =   sqrt(1/2)\n",
       "93 NaN NaN NaN NaN  (4,2,4)  :  (2,1,2)  x  (2,1,2)  =     sqrt(1)\n",
       "\n",
       "[94 rows x 11 columns]"
      ]
     },
     "execution_count": 8,
     "metadata": {},
     "output_type": "execute_result"
    }
   ],
   "source": [
    "df = pd.read_csv('8x8to27.txt', sep = ' ', skiprows=1, header=None)\n",
    "df"
   ]
  },
  {
   "cell_type": "code",
   "execution_count": 15,
   "metadata": {},
   "outputs": [
    {
     "data": {
      "text/plain": [
       "'sqrt(1/2)'"
      ]
     },
     "execution_count": 15,
     "metadata": {},
     "output_type": "execute_result"
    }
   ],
   "source": [
    "df.iloc[:,10][1]"
   ]
  },
  {
   "cell_type": "code",
   "execution_count": 13,
   "metadata": {},
   "outputs": [],
   "source": [
    "from sympy import *"
   ]
  },
  {
   "cell_type": "raw",
   "metadata": {},
   "source": [
    "x = sqrt(1)\n",
    "print(x)"
   ]
  },
  {
   "cell_type": "code",
   "execution_count": 14,
   "metadata": {},
   "outputs": [
    {
     "name": "stdout",
     "output_type": "stream",
     "text": [
      "1\n"
     ]
    }
   ],
   "source": [
    "x = sqrt(1)\n",
    "print(x)"
   ]
  },
  {
   "cell_type": "code",
   "execution_count": 16,
   "metadata": {},
   "outputs": [],
   "source": [
    "y = df.iloc[:,10][1]"
   ]
  },
  {
   "cell_type": "code",
   "execution_count": 17,
   "metadata": {},
   "outputs": [
    {
     "data": {
      "text/plain": [
       "'sqrt(1/2)'"
      ]
     },
     "execution_count": 17,
     "metadata": {},
     "output_type": "execute_result"
    }
   ],
   "source": [
    "y"
   ]
  },
  {
   "cell_type": "code",
   "execution_count": null,
   "metadata": {},
   "outputs": [],
   "source": []
  },
  {
   "cell_type": "markdown",
   "metadata": {},
   "source": [
    "Convertir texto a objeto sympy:"
   ]
  },
  {
   "cell_type": "code",
   "execution_count": 18,
   "metadata": {},
   "outputs": [
    {
     "data": {
      "text/latex": [
       "$\\displaystyle \\frac{\\sqrt{2}}{2}$"
      ],
      "text/plain": [
       "sqrt(2)/2"
      ]
     },
     "execution_count": 18,
     "metadata": {},
     "output_type": "execute_result"
    }
   ],
   "source": [
    "a = parse_expr(y, evaluate=0)\n",
    "a"
   ]
  },
  {
   "cell_type": "code",
   "execution_count": null,
   "metadata": {},
   "outputs": [],
   "source": []
  }
 ],
 "metadata": {
  "kernelspec": {
   "display_name": "Python 3",
   "language": "python",
   "name": "python3"
  },
  "language_info": {
   "codemirror_mode": {
    "name": "ipython",
    "version": 3
   },
   "file_extension": ".py",
   "mimetype": "text/x-python",
   "name": "python",
   "nbconvert_exporter": "python",
   "pygments_lexer": "ipython3",
   "version": "3.8.5"
  }
 },
 "nbformat": 4,
 "nbformat_minor": 4
}
