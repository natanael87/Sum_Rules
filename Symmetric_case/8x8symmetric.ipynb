{
 "cells": [
  {
   "cell_type": "code",
   "execution_count": 1,
   "metadata": {},
   "outputs": [],
   "source": [
    "import pandas as pd\n",
    "import numpy as np\n",
    "import math"
   ]
  },
  {
   "cell_type": "code",
   "execution_count": 4,
   "metadata": {},
   "outputs": [],
   "source": [
    "from sympy import *"
   ]
  },
  {
   "cell_type": "code",
   "execution_count": 104,
   "metadata": {},
   "outputs": [],
   "source": [
    "# Se importa el archivo\n",
    "df = pd.read_csv('8x8comp.txt', skiprows=4, header=None)\n",
    "\n",
    "# Se agregan las cabeceras de las columnas\n",
    "df.columns = ['klm', 'k1l1m1', 'k2l2m2', 'cg_coef', 'multiplet', 'degeneracy']\n",
    "\n",
    "# Se eliminan las filas con valores NaN\n",
    "df = df.dropna()\n",
    "\n",
    "# Convierte la columna \"degeneracy\" a tipo int\n",
    "df = df.astype({\"degeneracy\":int})"
   ]
  },
  {
   "cell_type": "code",
   "execution_count": 116,
   "metadata": {},
   "outputs": [
    {
     "data": {
      "text/html": [
       "<div>\n",
       "<style scoped>\n",
       "    .dataframe tbody tr th:only-of-type {\n",
       "        vertical-align: middle;\n",
       "    }\n",
       "\n",
       "    .dataframe tbody tr th {\n",
       "        vertical-align: top;\n",
       "    }\n",
       "\n",
       "    .dataframe thead th {\n",
       "        text-align: right;\n",
       "    }\n",
       "</style>\n",
       "<table border=\"1\" class=\"dataframe\">\n",
       "  <thead>\n",
       "    <tr style=\"text-align: right;\">\n",
       "      <th></th>\n",
       "      <th>klm</th>\n",
       "      <th>k1l1m1</th>\n",
       "      <th>k2l2m2</th>\n",
       "      <th>cg_coef</th>\n",
       "      <th>multiplet</th>\n",
       "      <th>degeneracy</th>\n",
       "    </tr>\n",
       "  </thead>\n",
       "  <tbody>\n",
       "    <tr>\n",
       "      <th>0</th>\n",
       "      <td>000</td>\n",
       "      <td>100</td>\n",
       "      <td>212</td>\n",
       "      <td>sqrt(1/8)</td>\n",
       "      <td>00</td>\n",
       "      <td>1</td>\n",
       "    </tr>\n",
       "    <tr>\n",
       "      <th>1</th>\n",
       "      <td>000</td>\n",
       "      <td>101</td>\n",
       "      <td>211</td>\n",
       "      <td>-sqrt(1/8)</td>\n",
       "      <td>00</td>\n",
       "      <td>1</td>\n",
       "    </tr>\n",
       "    <tr>\n",
       "      <th>2</th>\n",
       "      <td>000</td>\n",
       "      <td>111</td>\n",
       "      <td>111</td>\n",
       "      <td>-sqrt(1/8)</td>\n",
       "      <td>00</td>\n",
       "      <td>1</td>\n",
       "    </tr>\n",
       "    <tr>\n",
       "      <th>3</th>\n",
       "      <td>000</td>\n",
       "      <td>200</td>\n",
       "      <td>202</td>\n",
       "      <td>sqrt(1/8)</td>\n",
       "      <td>00</td>\n",
       "      <td>1</td>\n",
       "    </tr>\n",
       "    <tr>\n",
       "      <th>4</th>\n",
       "      <td>000</td>\n",
       "      <td>201</td>\n",
       "      <td>201</td>\n",
       "      <td>-sqrt(1/8)</td>\n",
       "      <td>00</td>\n",
       "      <td>1</td>\n",
       "    </tr>\n",
       "    <tr>\n",
       "      <th>5</th>\n",
       "      <td>000</td>\n",
       "      <td>202</td>\n",
       "      <td>200</td>\n",
       "      <td>sqrt(1/8)</td>\n",
       "      <td>00</td>\n",
       "      <td>1</td>\n",
       "    </tr>\n",
       "    <tr>\n",
       "      <th>6</th>\n",
       "      <td>000</td>\n",
       "      <td>211</td>\n",
       "      <td>101</td>\n",
       "      <td>-sqrt(1/8)</td>\n",
       "      <td>00</td>\n",
       "      <td>1</td>\n",
       "    </tr>\n",
       "    <tr>\n",
       "      <th>7</th>\n",
       "      <td>000</td>\n",
       "      <td>212</td>\n",
       "      <td>100</td>\n",
       "      <td>sqrt(1/8)</td>\n",
       "      <td>00</td>\n",
       "      <td>1</td>\n",
       "    </tr>\n",
       "    <tr>\n",
       "      <th>9</th>\n",
       "      <td>300</td>\n",
       "      <td>100</td>\n",
       "      <td>200</td>\n",
       "      <td>-sqrt(1/2)</td>\n",
       "      <td>03</td>\n",
       "      <td>1</td>\n",
       "    </tr>\n",
       "  </tbody>\n",
       "</table>\n",
       "</div>"
      ],
      "text/plain": [
       "   klm k1l1m1 k2l2m2     cg_coef multiplet  degeneracy\n",
       "0  000    100    212   sqrt(1/8)        00           1\n",
       "1  000    101    211  -sqrt(1/8)        00           1\n",
       "2  000    111    111  -sqrt(1/8)        00           1\n",
       "3  000    200    202   sqrt(1/8)        00           1\n",
       "4  000    201    201  -sqrt(1/8)        00           1\n",
       "5  000    202    200   sqrt(1/8)        00           1\n",
       "6  000    211    101  -sqrt(1/8)        00           1\n",
       "7  000    212    100   sqrt(1/8)        00           1\n",
       "9  300    100    200  -sqrt(1/2)        03           1"
      ]
     },
     "execution_count": 116,
     "metadata": {},
     "output_type": "execute_result"
    }
   ],
   "source": [
    "df.loc[0:9]"
   ]
  },
  {
   "cell_type": "markdown",
   "metadata": {},
   "source": [
    "Si se quisiera eliminar columnas con dropna: df.dropna(axis='name of the axis'/'all')"
   ]
  },
  {
   "cell_type": "markdown",
   "metadata": {},
   "source": [
    "Para convertir texto a objeto sympy:"
   ]
  },
  {
   "cell_type": "code",
   "execution_count": 117,
   "metadata": {},
   "outputs": [
    {
     "data": {
      "text/plain": [
       "'-sqrt(1/8)'"
      ]
     },
     "execution_count": 117,
     "metadata": {},
     "output_type": "execute_result"
    }
   ],
   "source": [
    "y = df.iloc[1,3]\n",
    "y"
   ]
  },
  {
   "cell_type": "code",
   "execution_count": 118,
   "metadata": {},
   "outputs": [
    {
     "data": {
      "text/latex": [
       "$\\displaystyle - \\frac{\\sqrt{2}}{4}$"
      ],
      "text/plain": [
       "-sqrt(2)/4"
      ]
     },
     "execution_count": 118,
     "metadata": {},
     "output_type": "execute_result"
    }
   ],
   "source": [
    "a = parse_expr(y, evaluate=0)\n",
    "a"
   ]
  },
  {
   "cell_type": "code",
   "execution_count": 119,
   "metadata": {},
   "outputs": [
    {
     "data": {
      "text/html": [
       "<div>\n",
       "<style scoped>\n",
       "    .dataframe tbody tr th:only-of-type {\n",
       "        vertical-align: middle;\n",
       "    }\n",
       "\n",
       "    .dataframe tbody tr th {\n",
       "        vertical-align: top;\n",
       "    }\n",
       "\n",
       "    .dataframe thead th {\n",
       "        text-align: right;\n",
       "    }\n",
       "</style>\n",
       "<table border=\"1\" class=\"dataframe\">\n",
       "  <thead>\n",
       "    <tr style=\"text-align: right;\">\n",
       "      <th></th>\n",
       "      <th>klm</th>\n",
       "      <th>k1l1m1</th>\n",
       "      <th>k2l2m2</th>\n",
       "      <th>cg_coef</th>\n",
       "      <th>multiplet</th>\n",
       "      <th>degeneracy</th>\n",
       "    </tr>\n",
       "  </thead>\n",
       "  <tbody>\n",
       "  </tbody>\n",
       "</table>\n",
       "</div>"
      ],
      "text/plain": [
       "Empty DataFrame\n",
       "Columns: [klm, k1l1m1, k2l2m2, cg_coef, multiplet, degeneracy]\n",
       "Index: []"
      ]
     },
     "execution_count": 119,
     "metadata": {},
     "output_type": "execute_result"
    }
   ],
   "source": [
    "d = '2.0'\n",
    "df.query('degeneracy == @d')"
   ]
  },
  {
   "cell_type": "code",
   "execution_count": 120,
   "metadata": {},
   "outputs": [
    {
     "data": {
      "text/html": [
       "<div>\n",
       "<style scoped>\n",
       "    .dataframe tbody tr th:only-of-type {\n",
       "        vertical-align: middle;\n",
       "    }\n",
       "\n",
       "    .dataframe tbody tr th {\n",
       "        vertical-align: top;\n",
       "    }\n",
       "\n",
       "    .dataframe thead th {\n",
       "        text-align: right;\n",
       "    }\n",
       "</style>\n",
       "<table border=\"1\" class=\"dataframe\">\n",
       "  <thead>\n",
       "    <tr style=\"text-align: right;\">\n",
       "      <th></th>\n",
       "      <th>klm</th>\n",
       "      <th>k1l1m1</th>\n",
       "      <th>k2l2m2</th>\n",
       "      <th>cg_coef</th>\n",
       "      <th>multiplet</th>\n",
       "      <th>degeneracy</th>\n",
       "    </tr>\n",
       "  </thead>\n",
       "  <tbody>\n",
       "    <tr>\n",
       "      <th>9</th>\n",
       "      <td>300</td>\n",
       "      <td>100</td>\n",
       "      <td>200</td>\n",
       "      <td>-sqrt(1/2)</td>\n",
       "      <td>03</td>\n",
       "      <td>1</td>\n",
       "    </tr>\n",
       "    <tr>\n",
       "      <th>15</th>\n",
       "      <td>300</td>\n",
       "      <td>200</td>\n",
       "      <td>100</td>\n",
       "      <td>sqrt(1/2)</td>\n",
       "      <td>03</td>\n",
       "      <td>1</td>\n",
       "    </tr>\n",
       "    <tr>\n",
       "      <th>190</th>\n",
       "      <td>300</td>\n",
       "      <td>100</td>\n",
       "      <td>200</td>\n",
       "      <td>sqrt(1/2)</td>\n",
       "      <td>22</td>\n",
       "      <td>1</td>\n",
       "    </tr>\n",
       "    <tr>\n",
       "      <th>196</th>\n",
       "      <td>300</td>\n",
       "      <td>200</td>\n",
       "      <td>100</td>\n",
       "      <td>sqrt(1/2)</td>\n",
       "      <td>22</td>\n",
       "      <td>1</td>\n",
       "    </tr>\n",
       "    <tr>\n",
       "      <th>296</th>\n",
       "      <td>300</td>\n",
       "      <td>200</td>\n",
       "      <td>211</td>\n",
       "      <td>sqrt(1/2)</td>\n",
       "      <td>30</td>\n",
       "      <td>1</td>\n",
       "    </tr>\n",
       "    <tr>\n",
       "      <th>302</th>\n",
       "      <td>300</td>\n",
       "      <td>211</td>\n",
       "      <td>200</td>\n",
       "      <td>-sqrt(1/2)</td>\n",
       "      <td>30</td>\n",
       "      <td>1</td>\n",
       "    </tr>\n",
       "  </tbody>\n",
       "</table>\n",
       "</div>"
      ],
      "text/plain": [
       "     klm k1l1m1 k2l2m2     cg_coef multiplet  degeneracy\n",
       "9    300    100    200  -sqrt(1/2)        03           1\n",
       "15   300    200    100   sqrt(1/2)        03           1\n",
       "190  300    100    200   sqrt(1/2)        22           1\n",
       "196  300    200    100   sqrt(1/2)        22           1\n",
       "296  300    200    211   sqrt(1/2)        30           1\n",
       "302  300    211    200  -sqrt(1/2)        30           1"
      ]
     },
     "execution_count": 120,
     "metadata": {},
     "output_type": "execute_result"
    }
   ],
   "source": [
    "filter1 = df['klm'] == '300'\n",
    "df[filter1]"
   ]
  },
  {
   "cell_type": "code",
   "execution_count": 103,
   "metadata": {},
   "outputs": [
    {
     "name": "stdout",
     "output_type": "stream",
     "text": [
      "<class 'pandas.core.frame.DataFrame'>\n",
      "Int64Index: 302 entries, 0 to 307\n",
      "Data columns (total 6 columns):\n",
      " #   Column      Non-Null Count  Dtype  \n",
      "---  ------      --------------  -----  \n",
      " 0   klm         302 non-null    object \n",
      " 1   k1l1m1      302 non-null    object \n",
      " 2   k2l2m2      302 non-null    object \n",
      " 3   cg_coef     302 non-null    object \n",
      " 4   multiplet   302 non-null    object \n",
      " 5   degeneracy  302 non-null    float64\n",
      "dtypes: float64(1), object(5)\n",
      "memory usage: 26.5+ KB\n"
     ]
    }
   ],
   "source": [
    "df.info()"
   ]
  },
  {
   "cell_type": "code",
   "execution_count": null,
   "metadata": {},
   "outputs": [],
   "source": []
  }
 ],
 "metadata": {
  "kernelspec": {
   "display_name": "Python 3",
   "language": "python",
   "name": "python3"
  },
  "language_info": {
   "codemirror_mode": {
    "name": "ipython",
    "version": 3
   },
   "file_extension": ".py",
   "mimetype": "text/x-python",
   "name": "python",
   "nbconvert_exporter": "python",
   "pygments_lexer": "ipython3",
   "version": "3.8.5"
  }
 },
 "nbformat": 4,
 "nbformat_minor": 4
}
