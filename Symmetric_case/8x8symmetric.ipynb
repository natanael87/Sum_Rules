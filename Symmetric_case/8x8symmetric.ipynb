{
 "cells": [
  {
   "cell_type": "code",
   "execution_count": 1,
   "metadata": {},
   "outputs": [],
   "source": [
    "import pandas as pd\n",
    "import numpy as np\n",
    "import math"
   ]
  },
  {
   "cell_type": "code",
   "execution_count": 4,
   "metadata": {},
   "outputs": [],
   "source": [
    "from sympy import *"
   ]
  },
  {
   "cell_type": "code",
   "execution_count": 198,
   "metadata": {},
   "outputs": [],
   "source": [
    "# Se importa el archivo\n",
    "df = pd.read_csv('8x8comp.txt', skiprows=4, header=None)\n",
    "\n",
    "# Se agregan las cabeceras de las columnas\n",
    "df.columns = ['klm', 'k1l1m1', 'k2l2m2', 'cg_coef', 'multiplet', 'degeneracy']\n",
    "\n",
    "# Se eliminan las filas con valores NaN\n",
    "df = df.dropna()\n",
    "\n",
    "# Convierte la columna \"degeneracy\" en tipo int\n",
    "df = df.astype({\"degeneracy\":int})"
   ]
  },
  {
   "cell_type": "code",
   "execution_count": 199,
   "metadata": {},
   "outputs": [
    {
     "data": {
      "text/html": [
       "<div>\n",
       "<style scoped>\n",
       "    .dataframe tbody tr th:only-of-type {\n",
       "        vertical-align: middle;\n",
       "    }\n",
       "\n",
       "    .dataframe tbody tr th {\n",
       "        vertical-align: top;\n",
       "    }\n",
       "\n",
       "    .dataframe thead th {\n",
       "        text-align: right;\n",
       "    }\n",
       "</style>\n",
       "<table border=\"1\" class=\"dataframe\">\n",
       "  <thead>\n",
       "    <tr style=\"text-align: right;\">\n",
       "      <th></th>\n",
       "      <th>klm</th>\n",
       "      <th>k1l1m1</th>\n",
       "      <th>k2l2m2</th>\n",
       "      <th>cg_coef</th>\n",
       "      <th>multiplet</th>\n",
       "      <th>degeneracy</th>\n",
       "    </tr>\n",
       "  </thead>\n",
       "  <tbody>\n",
       "    <tr>\n",
       "      <th>0</th>\n",
       "      <td>000</td>\n",
       "      <td>100</td>\n",
       "      <td>212</td>\n",
       "      <td>sqrt(1/8)</td>\n",
       "      <td>00</td>\n",
       "      <td>1</td>\n",
       "    </tr>\n",
       "    <tr>\n",
       "      <th>1</th>\n",
       "      <td>000</td>\n",
       "      <td>101</td>\n",
       "      <td>211</td>\n",
       "      <td>-sqrt(1/8)</td>\n",
       "      <td>00</td>\n",
       "      <td>1</td>\n",
       "    </tr>\n",
       "    <tr>\n",
       "      <th>2</th>\n",
       "      <td>000</td>\n",
       "      <td>111</td>\n",
       "      <td>111</td>\n",
       "      <td>-sqrt(1/8)</td>\n",
       "      <td>00</td>\n",
       "      <td>1</td>\n",
       "    </tr>\n",
       "    <tr>\n",
       "      <th>3</th>\n",
       "      <td>000</td>\n",
       "      <td>200</td>\n",
       "      <td>202</td>\n",
       "      <td>sqrt(1/8)</td>\n",
       "      <td>00</td>\n",
       "      <td>1</td>\n",
       "    </tr>\n",
       "    <tr>\n",
       "      <th>4</th>\n",
       "      <td>000</td>\n",
       "      <td>201</td>\n",
       "      <td>201</td>\n",
       "      <td>-sqrt(1/8)</td>\n",
       "      <td>00</td>\n",
       "      <td>1</td>\n",
       "    </tr>\n",
       "    <tr>\n",
       "      <th>5</th>\n",
       "      <td>000</td>\n",
       "      <td>202</td>\n",
       "      <td>200</td>\n",
       "      <td>sqrt(1/8)</td>\n",
       "      <td>00</td>\n",
       "      <td>1</td>\n",
       "    </tr>\n",
       "    <tr>\n",
       "      <th>6</th>\n",
       "      <td>000</td>\n",
       "      <td>211</td>\n",
       "      <td>101</td>\n",
       "      <td>-sqrt(1/8)</td>\n",
       "      <td>00</td>\n",
       "      <td>1</td>\n",
       "    </tr>\n",
       "    <tr>\n",
       "      <th>7</th>\n",
       "      <td>000</td>\n",
       "      <td>212</td>\n",
       "      <td>100</td>\n",
       "      <td>sqrt(1/8)</td>\n",
       "      <td>00</td>\n",
       "      <td>1</td>\n",
       "    </tr>\n",
       "    <tr>\n",
       "      <th>9</th>\n",
       "      <td>300</td>\n",
       "      <td>100</td>\n",
       "      <td>200</td>\n",
       "      <td>-sqrt(1/2)</td>\n",
       "      <td>03</td>\n",
       "      <td>1</td>\n",
       "    </tr>\n",
       "  </tbody>\n",
       "</table>\n",
       "</div>"
      ],
      "text/plain": [
       "   klm k1l1m1 k2l2m2     cg_coef multiplet  degeneracy\n",
       "0  000    100    212   sqrt(1/8)        00           1\n",
       "1  000    101    211  -sqrt(1/8)        00           1\n",
       "2  000    111    111  -sqrt(1/8)        00           1\n",
       "3  000    200    202   sqrt(1/8)        00           1\n",
       "4  000    201    201  -sqrt(1/8)        00           1\n",
       "5  000    202    200   sqrt(1/8)        00           1\n",
       "6  000    211    101  -sqrt(1/8)        00           1\n",
       "7  000    212    100   sqrt(1/8)        00           1\n",
       "9  300    100    200  -sqrt(1/2)        03           1"
      ]
     },
     "execution_count": 199,
     "metadata": {},
     "output_type": "execute_result"
    }
   ],
   "source": [
    "df.loc[0:9]"
   ]
  },
  {
   "cell_type": "markdown",
   "metadata": {},
   "source": [
    "Si se quisiera eliminar columnas con dropna: \n",
    "~~~\n",
    "df.dropna(axis='name of the axis'/'all')\n",
    "~~~"
   ]
  },
  {
   "cell_type": "markdown",
   "metadata": {},
   "source": [
    "Para convertir texto a objeto sympy:"
   ]
  },
  {
   "cell_type": "code",
   "execution_count": 169,
   "metadata": {},
   "outputs": [
    {
     "data": {
      "text/plain": [
       "'-sqrt(1/8)'"
      ]
     },
     "execution_count": 169,
     "metadata": {},
     "output_type": "execute_result"
    }
   ],
   "source": [
    "y = df.iloc[1,3]\n",
    "y"
   ]
  },
  {
   "cell_type": "code",
   "execution_count": 170,
   "metadata": {},
   "outputs": [
    {
     "data": {
      "text/latex": [
       "$\\displaystyle - \\frac{\\sqrt{2}}{4}$"
      ],
      "text/plain": [
       "-sqrt(2)/4"
      ]
     },
     "execution_count": 170,
     "metadata": {},
     "output_type": "execute_result"
    }
   ],
   "source": [
    "a = parse_expr(y, evaluate=0)\n",
    "a"
   ]
  },
  {
   "cell_type": "markdown",
   "metadata": {},
   "source": [
    "Otra opción para búsqueda en el data frame:\n",
    "~~~\n",
    "d = '11'\n",
    "\n",
    "df.query('multiplet == @d')\n",
    "~~~\n",
    "o\n",
    "~~~\n",
    "filter1 = df['klm'] == '300'\n",
    "df[filter1]\n",
    "~~~\n",
    "ó\n",
    "~~~\n",
    "is_11 = df.loc[:,'multiplet'] == '11'\n",
    "df_11 = df.loc[is_11]\n",
    "df_11.head()\n",
    "~~~"
   ]
  },
  {
   "cell_type": "code",
   "execution_count": 219,
   "metadata": {},
   "outputs": [
    {
     "data": {
      "text/html": [
       "<div>\n",
       "<style scoped>\n",
       "    .dataframe tbody tr th:only-of-type {\n",
       "        vertical-align: middle;\n",
       "    }\n",
       "\n",
       "    .dataframe tbody tr th {\n",
       "        vertical-align: top;\n",
       "    }\n",
       "\n",
       "    .dataframe thead th {\n",
       "        text-align: right;\n",
       "    }\n",
       "</style>\n",
       "<table border=\"1\" class=\"dataframe\">\n",
       "  <thead>\n",
       "    <tr style=\"text-align: right;\">\n",
       "      <th></th>\n",
       "      <th>klm</th>\n",
       "      <th>k1l1m1</th>\n",
       "      <th>k2l2m2</th>\n",
       "      <th>cg_coef</th>\n",
       "      <th>multiplet</th>\n",
       "      <th>degeneracy</th>\n",
       "    </tr>\n",
       "  </thead>\n",
       "  <tbody>\n",
       "    <tr>\n",
       "      <th>22</th>\n",
       "      <td>312</td>\n",
       "      <td>100</td>\n",
       "      <td>212</td>\n",
       "      <td>-sqrt(1/12)</td>\n",
       "      <td>03</td>\n",
       "      <td>1</td>\n",
       "    </tr>\n",
       "  </tbody>\n",
       "</table>\n",
       "</div>"
      ],
      "text/plain": [
       "    klm k1l1m1 k2l2m2      cg_coef multiplet  degeneracy\n",
       "22  312    100    212  -sqrt(1/12)        03           1"
      ]
     },
     "execution_count": 219,
     "metadata": {},
     "output_type": "execute_result"
    }
   ],
   "source": [
    "initial1 = '100'\n",
    "dfi1 = df.query('k1l1m1 == @initial1')\n",
    "initial2 = '212'\n",
    "dfi2 = dfi1.query('k2l2m2 == @initial2')\n",
    "dfi2\n",
    "final = '312'\n",
    "dff = dfi2.query('klm == @final')\n",
    "dff\n",
    "multipletd = '03'\n",
    "dfm = dff.query('multiplet == @multipletd')\n",
    "dfm"
   ]
  },
  {
   "cell_type": "markdown",
   "metadata": {},
   "source": [
    "### TO DO \n",
    "1. Crear una función que verifique la simetría y devuelva los valores de \"multiplet\" y \"degeneracy\"\n",
    "2. Crear una función que calcule los coeficientes de cg mediante búsquedas en el data frame"
   ]
  },
  {
   "cell_type": "code",
   "execution_count": 200,
   "metadata": {},
   "outputs": [],
   "source": [
    "# Función para separar el dataframe en multipletes\n",
    "def take_multiplet(multiplet_i, dataf):\n",
    "    df_multiplet = dataf[dataf[\"multiplet\"] == multiplet_i]\n",
    "    return df_multiplet"
   ]
  },
  {
   "cell_type": "code",
   "execution_count": 201,
   "metadata": {},
   "outputs": [],
   "source": [
    "multiplets = df['multiplet'].value_counts().index.tolist() # Retorna los multipletes existentes\n",
    "\n",
    "# Retorna solo las filas con el multiplete indicado en la función\n",
    "m = take_multiplet(multiplets[0], df)"
   ]
  },
  {
   "cell_type": "code",
   "execution_count": 207,
   "metadata": {},
   "outputs": [
    {
     "data": {
      "text/plain": [
       "[2, 1]"
      ]
     },
     "execution_count": 207,
     "metadata": {},
     "output_type": "execute_result"
    }
   ],
   "source": [
    "degeneracy = m['degeneracy'].value_counts().index.tolist()\n",
    "degeneracy"
   ]
  },
  {
   "cell_type": "code",
   "execution_count": null,
   "metadata": {},
   "outputs": [],
   "source": []
  }
 ],
 "metadata": {
  "kernelspec": {
   "display_name": "Python 3",
   "language": "python",
   "name": "python3"
  },
  "language_info": {
   "codemirror_mode": {
    "name": "ipython",
    "version": 3
   },
   "file_extension": ".py",
   "mimetype": "text/x-python",
   "name": "python",
   "nbconvert_exporter": "python",
   "pygments_lexer": "ipython3",
   "version": "3.8.5"
  }
 },
 "nbformat": 4,
 "nbformat_minor": 4
}
