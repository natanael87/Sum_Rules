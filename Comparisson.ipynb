{
 "cells": [
  {
   "cell_type": "code",
   "execution_count": 1,
   "metadata": {},
   "outputs": [],
   "source": [
    "import numpy as np\n",
    "from sympy import *\n",
    "import load"
   ]
  },
  {
   "cell_type": "code",
   "execution_count": 2,
   "metadata": {},
   "outputs": [
    {
     "data": {
      "text/latex": [
       "$\\displaystyle \\left[\\begin{matrix}- \\sqrt{2} & - \\sqrt{6} & 0 & 0 & 0 & 0 & 0 & 1 & - \\sqrt{6}\\\\0 & 0 & -2 & - \\sqrt{6} & 0 & 0 & 0 & 1 & - \\sqrt{6}\\\\2 \\sqrt{2} & 0 & 1 & 0 & - \\sqrt{6} & \\sqrt{6} & 0 & 2 & 0\\\\-8 & 0 & - 2 \\sqrt{2} & 0 & 0 & - 3 \\sqrt{3} & - 3 \\sqrt{3} & - \\sqrt{2} & - 6 \\sqrt{3}\\end{matrix}\\right]$"
      ],
      "text/plain": [
       "Matrix([\n",
       "[ -sqrt(2), -sqrt(6),          0,        0,        0,          0,          0,        1,   -sqrt(6)],\n",
       "[        0,        0,         -2, -sqrt(6),        0,          0,          0,        1,   -sqrt(6)],\n",
       "[2*sqrt(2),        0,          1,        0, -sqrt(6),    sqrt(6),          0,        2,          0],\n",
       "[       -8,        0, -2*sqrt(2),        0,        0, -3*sqrt(3), -3*sqrt(3), -sqrt(2), -6*sqrt(3)]])"
      ]
     },
     "execution_count": 2,
     "metadata": {},
     "output_type": "execute_result"
    }
   ],
   "source": [
    "Tesis = Matrix([[-sqrt(2), -sqrt(6), 0, 0, 0, 0, 0, 1, -sqrt(6)],\n",
    "               [0, 0, -2, -sqrt(6), 0, 0, 0, 1, -sqrt(6)],\n",
    "               [2*sqrt(2), 0, 1, 0, -sqrt(6), sqrt(6), 0, 2, 0],\n",
    "               [-8, 0, -2*sqrt(2), 0, 0, -3*sqrt(3), -3*sqrt(3), -sqrt(2), -6*sqrt(3)]])\n",
    "Tesis"
   ]
  },
  {
   "cell_type": "code",
   "execution_count": 4,
   "metadata": {},
   "outputs": [
    {
     "data": {
      "text/latex": [
       "$\\displaystyle \\left[\\begin{matrix}\\frac{\\sqrt{3}}{3} & 1 & - \\frac{\\sqrt{6}}{3} & -1 & 0 & 0 & 0 & 0 & 0\\\\0 & 0 & - \\frac{2 \\sqrt{6}}{3} & -2 & \\frac{4}{3} & \\frac{1}{3} & 1 & 0 & 0\\\\- \\sqrt{2} & 0 & \\frac{1}{2} & 0 & \\frac{\\sqrt{6}}{2} & \\frac{\\sqrt{6}}{2} & 0 & 1 & 0\\\\- \\frac{\\sqrt{3}}{3} & 0 & - \\frac{5 \\sqrt{6}}{12} & -1 & \\frac{1}{2} & \\frac{1}{2} & 0 & 0 & 1\\end{matrix}\\right]$"
      ],
      "text/plain": [
       "Matrix([\n",
       "[ sqrt(3)/3, 1,    -sqrt(6)/3, -1,         0,         0, 0, 0, 0],\n",
       "[         0, 0,  -2*sqrt(6)/3, -2,       4/3,       1/3, 1, 0, 0],\n",
       "[  -sqrt(2), 0,           1/2,  0, sqrt(6)/2, sqrt(6)/2, 0, 1, 0],\n",
       "[-sqrt(3)/3, 0, -5*sqrt(6)/12, -1,       1/2,       1/2, 0, 0, 1]])"
      ]
     },
     "execution_count": 4,
     "metadata": {},
     "output_type": "execute_result"
    }
   ],
   "source": [
    "Mathematica2 = Matrix([[1/sqrt(3), 1, -sqrt(Rational(2,3)), -1, 0, 0, 0, 0, 0], \n",
    "                      [0, 0, -2*sqrt(Rational(2,3)), -2, Rational(4,3), Rational(1,3), 1, 0, 0], \n",
    "                      [-sqrt(2), 0, Rational(1,2), 0, sqrt(Rational(3/2)), sqrt(Rational(3,2)), 0, 1, 0], \n",
    "                      [-1/sqrt(3), 0, -5/(2*sqrt(6)), -1, Rational(1,2), Rational(1,2), 0, 0,1]])\n",
    "Mathematica2"
   ]
  },
  {
   "cell_type": "code",
   "execution_count": 12,
   "metadata": {},
   "outputs": [
    {
     "data": {
      "text/plain": [
       "(Matrix([\n",
       " [1, 0, 0, 0, 0, sqrt(6), 0, 0],\n",
       " [0, 1, 0, 0, 0,       0, 0, 0],\n",
       " [0, 0, 1, 0, 0,       0, 0, 0],\n",
       " [0, 0, 0, 1, 0,       0, 0, 0],\n",
       " [0, 0, 0, 0, 1,       1, 0, 0],\n",
       " [0, 0, 0, 0, 0,       0, 1, 0],\n",
       " [0, 0, 0, 0, 0,       0, 0, 1],\n",
       " [0, 0, 0, 0, 0,       0, 0, 0],\n",
       " [0, 0, 0, 0, 0,       0, 0, 0]]),\n",
       " (0, 1, 2, 3, 4, 6, 7))"
      ]
     },
     "execution_count": 12,
     "metadata": {},
     "output_type": "execute_result"
    }
   ],
   "source": [
    "M1 = Mathematica2\n",
    "M2 = Tesis\n",
    "Madj = Matrix([M1,M2]).T\n",
    "Madj.rref()"
   ]
  },
  {
   "cell_type": "code",
   "execution_count": 9,
   "metadata": {},
   "outputs": [
    {
     "data": {
      "text/latex": [
       "$\\displaystyle \\left[\\begin{matrix}\\frac{\\sqrt{3}}{3} & 1 & - \\frac{\\sqrt{6}}{3} & -1 & 0 & 0 & 0 & 0 & 0\\\\0 & 0 & - \\frac{2 \\sqrt{6}}{3} & -2 & \\frac{4}{3} & - \\frac{1}{3} & 1 & 0 & 0\\\\\\sqrt{2} & 0 & \\frac{1}{2} & 0 & - \\frac{\\sqrt{6}}{2} & \\frac{\\sqrt{6}}{2} & 0 & 1 & 0\\\\- \\frac{\\sqrt{3}}{3} & 0 & - \\frac{5 \\sqrt{6}}{12} & -1 & \\frac{1}{2} & - \\frac{1}{2} & 0 & 0 & 1\\end{matrix}\\right]$"
      ],
      "text/plain": [
       "Matrix([\n",
       "[ sqrt(3)/3, 1,    -sqrt(6)/3, -1,          0,         0, 0, 0, 0],\n",
       "[         0, 0,  -2*sqrt(6)/3, -2,        4/3,      -1/3, 1, 0, 0],\n",
       "[   sqrt(2), 0,           1/2,  0, -sqrt(6)/2, sqrt(6)/2, 0, 1, 0],\n",
       "[-sqrt(3)/3, 0, -5*sqrt(6)/12, -1,        1/2,      -1/2, 0, 0, 1]])"
      ]
     },
     "execution_count": 9,
     "metadata": {},
     "output_type": "execute_result"
    }
   ],
   "source": [
    "Mathematica = Matrix([[1/sqrt(3), 1, -sqrt(Rational(2,3)), -1, 0, 0, 0, 0, 0], \n",
    "                      [0, 0, -2*sqrt(Rational(2,3)), -2, Rational(4,3), Rational(-1,3), 1, 0, 0], \n",
    "                      [sqrt(2), 0, Rational(1,2), 0, -sqrt(Rational(3/2)), sqrt(Rational(3,2)), 0, 1, 0], \n",
    "                      [-1/sqrt(3), 0, -5/(2*sqrt(6)), -1, Rational(1,2), Rational(-1,2), 0, 0,1]])\n",
    "Mathematica"
   ]
  },
  {
   "cell_type": "code",
   "execution_count": 18,
   "metadata": {},
   "outputs": [
    {
     "data": {
      "text/plain": [
       "(Matrix([\n",
       " [1, 0, 0, 0, 0, sqrt(6), 0,  6*sqrt(3)],\n",
       " [0, 1, 0, 0, 0,       0, 0, -3*sqrt(3)],\n",
       " [0, 0, 1, 0, 0,       0, 2, -4*sqrt(2)],\n",
       " [0, 0, 0, 1, 0,       0, 0,          0],\n",
       " [0, 0, 0, 0, 1,       1, 0,  3*sqrt(2)],\n",
       " [0, 0, 0, 0, 0,       0, 0,          0],\n",
       " [0, 0, 0, 0, 0,       0, 0,          0],\n",
       " [0, 0, 0, 0, 0,       0, 0,          0],\n",
       " [0, 0, 0, 0, 0,       0, 0,          0]]),\n",
       " (0, 1, 2, 3, 4))"
      ]
     },
     "execution_count": 18,
     "metadata": {},
     "output_type": "execute_result"
    }
   ],
   "source": [
    "M1 = Mathematica\n",
    "M2 = Tesis\n",
    "Madj = Matrix([M1,M2]).T\n",
    "Madj.rref()"
   ]
  },
  {
   "cell_type": "code",
   "execution_count": 25,
   "metadata": {},
   "outputs": [
    {
     "data": {
      "text/latex": [
       "$\\displaystyle \\left[\\begin{matrix}0 & 0 & -2 & \\sqrt{6} & 0 & 0 & 0 & 1 & - \\sqrt{6}\\\\0 & \\sqrt{6} & -2 & 0 & 1 & 0 & 0 & 0 & - \\sqrt{6}\\\\6 \\sqrt{3} & - 2 \\sqrt{6} & -3 & - 2 \\sqrt{6} & 0 & 0 & 3 \\sqrt{6} & 0 & - 2 \\sqrt{6}\\\\- \\frac{\\sqrt{3}}{3} & 0 & - \\frac{5 \\sqrt{6}}{12} & -1 & \\frac{1}{2} & - \\frac{1}{2} & 0 & 0 & 1\\end{matrix}\\right]$"
      ],
      "text/plain": [
       "Matrix([\n",
       "[         0,          0,            -2,    sqrt(6),   0,    0,         0, 1,   -sqrt(6)],\n",
       "[         0,    sqrt(6),            -2,          0,   1,    0,         0, 0,   -sqrt(6)],\n",
       "[ 6*sqrt(3), -2*sqrt(6),            -3, -2*sqrt(6),   0,    0, 3*sqrt(6), 0, -2*sqrt(6)],\n",
       "[-sqrt(3)/3,          0, -5*sqrt(6)/12,         -1, 1/2, -1/2,         0, 0,          1]])"
      ]
     },
     "execution_count": 25,
     "metadata": {},
     "output_type": "execute_result"
    }
   ],
   "source": [
    "Jupyter = Matrix([[0, 0, -2, sqrt(6), 0, 0, 0, 1, -sqrt(6)], \n",
    "                [0, sqrt(6), -2, 0, 1, 0, 0, 0, -sqrt(6)], \n",
    "                [3*sqrt(12), -2*sqrt(6), -3, -2*sqrt(6), 0, 0, 3*sqrt(6), 0, -2*sqrt(6)], \n",
    "                [-2*sqrt(2), -4, 3*sqrt(6), -4, 0, 2, 0, 0, 8]])\n",
    "Jupyter"
   ]
  },
  {
   "cell_type": "code",
   "execution_count": 26,
   "metadata": {},
   "outputs": [
    {
     "data": {
      "text/latex": [
       "$\\displaystyle \\left[\\begin{matrix}1 & 0 & 0 & 0 & 0 & 0 & 0 & \\frac{19341 \\sqrt{6} + 67626}{12894 \\sqrt{2} + 15028 \\sqrt{3}}\\\\0 & 1 & 0 & 0 & 0 & 0 & 0 & - \\frac{19341 \\sqrt{6} + 67626}{6447 \\sqrt{2} + 7514 \\sqrt{3}}\\\\0 & 0 & 1 & 0 & 0 & 0 & 0 & - \\frac{2149 \\sqrt{6} + 7514}{4298 \\sqrt{3} + 7514 \\sqrt{2}}\\\\0 & 0 & 0 & 1 & 0 & 0 & 0 & - \\frac{229497676 \\sqrt{6} + 572533341}{32295172 \\sqrt{3} + 42084701 \\sqrt{2}}\\\\0 & 0 & 0 & 0 & 1 & 0 & 0 & - \\frac{61 \\sqrt{6} + 626}{47 \\sqrt{2} + 80 \\sqrt{3}}\\\\0 & 0 & 0 & 0 & 0 & 1 & 0 & \\frac{588505 \\sqrt{2} + 495034 \\sqrt{3}}{40813 \\sqrt{6} + 110594}\\\\0 & 0 & 0 & 0 & 0 & 0 & 1 & - \\frac{170778 + 79453 \\sqrt{6}}{25788 \\sqrt{2} + 30056 \\sqrt{3}}\\\\0 & 0 & 0 & 0 & 0 & 0 & 0 & 0\\\\0 & 0 & 0 & 0 & 0 & 0 & 0 & 0\\end{matrix}\\right]$"
      ],
      "text/plain": [
       "Matrix([\n",
       "[1, 0, 0, 0, 0, 0, 0,                (19341*sqrt(6) + 67626)/(12894*sqrt(2) + 15028*sqrt(3))],\n",
       "[0, 1, 0, 0, 0, 0, 0,                 -(19341*sqrt(6) + 67626)/(6447*sqrt(2) + 7514*sqrt(3))],\n",
       "[0, 0, 1, 0, 0, 0, 0,                   -(2149*sqrt(6) + 7514)/(4298*sqrt(3) + 7514*sqrt(2))],\n",
       "[0, 0, 0, 1, 0, 0, 0, -(229497676*sqrt(6) + 572533341)/(32295172*sqrt(3) + 42084701*sqrt(2))],\n",
       "[0, 0, 0, 0, 1, 0, 0,                          -(61*sqrt(6) + 626)/(47*sqrt(2) + 80*sqrt(3))],\n",
       "[0, 0, 0, 0, 0, 1, 0,             (588505*sqrt(2) + 495034*sqrt(3))/(40813*sqrt(6) + 110594)],\n",
       "[0, 0, 0, 0, 0, 0, 1,              -(170778 + 79453*sqrt(6))/(25788*sqrt(2) + 30056*sqrt(3))],\n",
       "[0, 0, 0, 0, 0, 0, 0,                                                                      0],\n",
       "[0, 0, 0, 0, 0, 0, 0,                                                                      0]])"
      ]
     },
     "execution_count": 26,
     "metadata": {},
     "output_type": "execute_result"
    }
   ],
   "source": [
    "M1 = Jupyter\n",
    "M2 = Tesis\n",
    "Madj = Matrix([M1,M2]).T\n",
    "Madj.rref()[0]"
   ]
  },
  {
   "cell_type": "code",
   "execution_count": 19,
   "metadata": {},
   "outputs": [
    {
     "data": {
      "text/latex": [
       "$\\displaystyle \\left[\\begin{matrix}\\frac{\\sqrt{3}}{3} & 0 & - \\frac{\\sqrt{6}}{3} & -1 & 0 & 1 & 0 & 0 & 0\\\\0 & \\frac{3}{4} & - \\frac{2 \\sqrt{6}}{3} & -2 & - \\frac{1}{3} & 0 & 1 & 0 & 0\\\\\\sqrt{2} & - \\frac{\\sqrt{6}}{2} & \\frac{1}{2} & 0 & \\frac{\\sqrt{6}}{2} & 0 & 0 & 1 & 0\\\\- \\frac{\\sqrt{3}}{3} & \\frac{1}{2} & - \\frac{5 \\sqrt{6}}{12} & -1 & - \\frac{1}{2} & 0 & 0 & 0 & 1\\end{matrix}\\right]$"
      ],
      "text/plain": [
       "Matrix([\n",
       "[ sqrt(3)/3,          0,    -sqrt(6)/3, -1,         0, 1, 0, 0, 0],\n",
       "[         0,        3/4,  -2*sqrt(6)/3, -2,      -1/3, 0, 1, 0, 0],\n",
       "[   sqrt(2), -sqrt(6)/2,           1/2,  0, sqrt(6)/2, 0, 0, 1, 0],\n",
       "[-sqrt(3)/3,        1/2, -5*sqrt(6)/12, -1,      -1/2, 0, 0, 0, 1]])"
      ]
     },
     "execution_count": 19,
     "metadata": {},
     "output_type": "execute_result"
    }
   ],
   "source": [
    "JWolfram = Matrix([[1/sqrt(3), 0, -sqrt(6)/3, -1, 0, 1, 0, 0, 0], \n",
    "                [0, Rational(3,4), -2*sqrt(6)/3, -2, -Rational(1,3), 0, 1, 0, 0], \n",
    "                [sqrt(2), -sqrt(6)/2, Rational(1,2), 0, sqrt(6)/2, 0, 0, 1, 0], \n",
    "                [-1/sqrt(3), Rational(1,2), -5*sqrt(6)/12, -1, -Rational(1,2), 0, 0, 0,1]])\n",
    "JWolfram"
   ]
  },
  {
   "cell_type": "code",
   "execution_count": 35,
   "metadata": {},
   "outputs": [
    {
     "data": {
      "text/plain": [
       "(Matrix([\n",
       " [1, 0, 2, 0],\n",
       " [0, 1, 0, 3],\n",
       " [0, 0, 0, 0],\n",
       " [0, 0, 0, 0]]),\n",
       " (0, 1))"
      ]
     },
     "execution_count": 35,
     "metadata": {},
     "output_type": "execute_result"
    }
   ],
   "source": [
    "Matrix([[1,2,2,6],\n",
    "       [1,-1,2,-3],\n",
    "       [2,1,4,3],\n",
    "       [0,3,0,9]]).rref()"
   ]
  },
  {
   "cell_type": "code",
   "execution_count": null,
   "metadata": {},
   "outputs": [],
   "source": []
  }
 ],
 "metadata": {
  "kernelspec": {
   "display_name": "Python 3",
   "language": "python",
   "name": "python3"
  },
  "language_info": {
   "codemirror_mode": {
    "name": "ipython",
    "version": 3
   },
   "file_extension": ".py",
   "mimetype": "text/x-python",
   "name": "python",
   "nbconvert_exporter": "python",
   "pygments_lexer": "ipython3",
   "version": "3.8.5"
  }
 },
 "nbformat": 4,
 "nbformat_minor": 4
}
