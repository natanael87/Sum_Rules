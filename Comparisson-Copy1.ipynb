{
 "cells": [
  {
   "cell_type": "code",
   "execution_count": 4,
   "metadata": {},
   "outputs": [],
   "source": [
    "import numpy as np\n",
    "from sympy import *\n",
    "import load"
   ]
  },
  {
   "cell_type": "code",
   "execution_count": 5,
   "metadata": {},
   "outputs": [
    {
     "data": {
      "text/latex": [
       "$\\displaystyle \\left[\\begin{matrix}- \\sqrt{2} & - \\sqrt{6} & 0 & 0 & 0 & 0 & 0 & 1 & - \\sqrt{6}\\\\0 & 0 & -2 & - \\sqrt{6} & 0 & 0 & 0 & 1 & - \\sqrt{6}\\\\2 \\sqrt{2} & 0 & 1 & 0 & - \\sqrt{6} & \\sqrt{6} & 0 & 2 & 0\\\\-8 & 0 & - 2 \\sqrt{2} & 0 & 0 & - 3 \\sqrt{3} & - 3 \\sqrt{3} & - \\sqrt{2} & - 6 \\sqrt{3}\\end{matrix}\\right]$"
      ],
      "text/plain": [
       "Matrix([\n",
       "[ -sqrt(2), -sqrt(6),          0,        0,        0,          0,          0,        1,   -sqrt(6)],\n",
       "[        0,        0,         -2, -sqrt(6),        0,          0,          0,        1,   -sqrt(6)],\n",
       "[2*sqrt(2),        0,          1,        0, -sqrt(6),    sqrt(6),          0,        2,          0],\n",
       "[       -8,        0, -2*sqrt(2),        0,        0, -3*sqrt(3), -3*sqrt(3), -sqrt(2), -6*sqrt(3)]])"
      ]
     },
     "execution_count": 5,
     "metadata": {},
     "output_type": "execute_result"
    }
   ],
   "source": [
    "Tesis = Matrix([[-sqrt(2), -sqrt(6), 0, 0, 0, 0, 0, 1, -sqrt(6)],\n",
    "               [0, 0, -2, -sqrt(6), 0, 0, 0, 1, -sqrt(6)],\n",
    "               [2*sqrt(2), 0, 1, 0, -sqrt(6), sqrt(6), 0, 2, 0],\n",
    "               [-8, 0, -2*sqrt(2), 0, 0, -3*sqrt(3), -3*sqrt(3), -sqrt(2), -6*sqrt(3)]])\n",
    "Tesis"
   ]
  },
  {
   "cell_type": "code",
   "execution_count": 6,
   "metadata": {},
   "outputs": [
    {
     "data": {
      "text/latex": [
       "$\\displaystyle \\left[\\begin{matrix}0 & 0 & -2 & \\sqrt{6} & 0 & 0 & 0 & 1 & - \\sqrt{6}\\\\0 & \\sqrt{6} & -2 & 0 & 1 & 0 & 0 & 0 & - \\sqrt{6}\\\\6 \\sqrt{3} & - 2 \\sqrt{6} & -3 & - 2 \\sqrt{6} & 0 & 0 & 3 \\sqrt{6} & 0 & - 2 \\sqrt{6}\\\\- 2 \\sqrt{2} & -4 & 3 \\sqrt{6} & -4 & 0 & 2 & 0 & 0 & 8\\end{matrix}\\right]$"
      ],
      "text/plain": [
       "Matrix([\n",
       "[         0,          0,        -2,    sqrt(6), 0, 0,         0, 1,   -sqrt(6)],\n",
       "[         0,    sqrt(6),        -2,          0, 1, 0,         0, 0,   -sqrt(6)],\n",
       "[ 6*sqrt(3), -2*sqrt(6),        -3, -2*sqrt(6), 0, 0, 3*sqrt(6), 0, -2*sqrt(6)],\n",
       "[-2*sqrt(2),         -4, 3*sqrt(6),         -4, 0, 2,         0, 0,          8]])"
      ]
     },
     "execution_count": 6,
     "metadata": {},
     "output_type": "execute_result"
    }
   ],
   "source": [
    "Jupyter = Matrix([[0, 0, -2, sqrt(6), 0, 0, 0, 1, -sqrt(6)], \n",
    "                [0, sqrt(6), -2, 0, 1, 0, 0, 0, -sqrt(6)], \n",
    "                [3*sqrt(12), -2*sqrt(6), -3, -2*sqrt(6), 0, 0, 3*sqrt(6), 0, -2*sqrt(6)], \n",
    "                [-2*sqrt(2), -4, 3*sqrt(6), -4, 0, 2, 0, 0, 8]])\n",
    "Jupyter"
   ]
  },
  {
   "cell_type": "code",
   "execution_count": 15,
   "metadata": {},
   "outputs": [
    {
     "data": {
      "text/latex": [
       "$\\displaystyle \\left[\\begin{matrix}17 & 10 & 6 & - 18 \\sqrt{6}\\\\10 & 17 & 6 & - 18 \\sqrt{6}\\\\6 & 6 & 243 & - 21 \\sqrt{6}\\\\- 18 \\sqrt{6} & - 18 \\sqrt{6} & - 21 \\sqrt{6} & 162\\end{matrix}\\right]$"
      ],
      "text/plain": [
       "Matrix([\n",
       "[         17,          10,           6, -18*sqrt(6)],\n",
       "[         10,          17,           6, -18*sqrt(6)],\n",
       "[          6,           6,         243, -21*sqrt(6)],\n",
       "[-18*sqrt(6), -18*sqrt(6), -21*sqrt(6),         162]])"
      ]
     },
     "execution_count": 15,
     "metadata": {},
     "output_type": "execute_result"
    }
   ],
   "source": [
    "A = Jupyter\n",
    "AT = A.T\n",
    "AAT = A*AT\n",
    "RATT = AAT.col_insert(4,eye(4)).rref()\n",
    "P = RATT[0][:,4:8]\n",
    "Pinv = P.inv()\n",
    "Pinv"
   ]
  },
  {
   "cell_type": "code",
   "execution_count": 16,
   "metadata": {},
   "outputs": [
    {
     "data": {
      "text/latex": [
       "$\\displaystyle \\left[\\begin{matrix}17 & 10 & 6 & - 18 \\sqrt{6}\\\\10 & 17 & 6 & - 18 \\sqrt{6}\\\\6 & 6 & 243 & - 21 \\sqrt{6}\\\\- 18 \\sqrt{6} & - 18 \\sqrt{6} & - 21 \\sqrt{6} & 162\\end{matrix}\\right]$"
      ],
      "text/plain": [
       "Matrix([\n",
       "[         17,          10,           6, -18*sqrt(6)],\n",
       "[         10,          17,           6, -18*sqrt(6)],\n",
       "[          6,           6,         243, -21*sqrt(6)],\n",
       "[-18*sqrt(6), -18*sqrt(6), -21*sqrt(6),         162]])"
      ]
     },
     "execution_count": 16,
     "metadata": {},
     "output_type": "execute_result"
    }
   ],
   "source": [
    "P*AAT*Pinv"
   ]
  },
  {
   "cell_type": "code",
   "execution_count": 21,
   "metadata": {},
   "outputs": [
    {
     "data": {
      "text/latex": [
       "$\\displaystyle \\left[\\begin{matrix}1 & 0 & 0 & 0\\\\0 & 1 & 0 & 0\\\\0 & 0 & 1 & 0\\\\0 & 0 & 0 & 1\\end{matrix}\\right]$"
      ],
      "text/plain": [
       "Matrix([\n",
       "[1, 0, 0, 0],\n",
       "[0, 1, 0, 0],\n",
       "[0, 0, 1, 0],\n",
       "[0, 0, 0, 1]])"
      ]
     },
     "execution_count": 21,
     "metadata": {},
     "output_type": "execute_result"
    }
   ],
   "source": [
    "P*AAT"
   ]
  },
  {
   "cell_type": "code",
   "execution_count": 22,
   "metadata": {},
   "outputs": [
    {
     "data": {
      "text/latex": [
       "$\\displaystyle \\left[\\begin{matrix}15 & 7 & -2 & 25 \\sqrt{2}\\\\7 & 17 & 0 & 21 \\sqrt{2}\\\\-2 & 0 & 25 & - 29 \\sqrt{2}\\\\25 \\sqrt{2} & 21 \\sqrt{2} & - 29 \\sqrt{2} & 236\\end{matrix}\\right]$"
      ],
      "text/plain": [
       "Matrix([\n",
       "[        15,          7,          -2,  25*sqrt(2)],\n",
       "[         7,         17,           0,  21*sqrt(2)],\n",
       "[        -2,          0,          25, -29*sqrt(2)],\n",
       "[25*sqrt(2), 21*sqrt(2), -29*sqrt(2),         236]])"
      ]
     },
     "execution_count": 22,
     "metadata": {},
     "output_type": "execute_result"
    }
   ],
   "source": [
    "B = Tesis\n",
    "BT = B.T\n",
    "BBT = B*BT\n",
    "RBTT = BBT.col_insert(4,eye(4)).rref()\n",
    "Q = RBTT[0][:,4:8]\n",
    "Qinv = Q.inv()\n",
    "Qinv"
   ]
  },
  {
   "cell_type": "code",
   "execution_count": 25,
   "metadata": {},
   "outputs": [
    {
     "data": {
      "text/latex": [
       "$\\displaystyle \\left[\\begin{matrix}1 & 0 & 0 & 0\\\\0 & 1 & 0 & 0\\\\0 & 0 & 1 & 0\\\\0 & 0 & 0 & 1\\end{matrix}\\right]$"
      ],
      "text/plain": [
       "Matrix([\n",
       "[1, 0, 0, 0],\n",
       "[0, 1, 0, 0],\n",
       "[0, 0, 1, 0],\n",
       "[0, 0, 0, 1]])"
      ]
     },
     "execution_count": 25,
     "metadata": {},
     "output_type": "execute_result"
    }
   ],
   "source": [
    "Q*BBT"
   ]
  },
  {
   "cell_type": "code",
   "execution_count": 29,
   "metadata": {},
   "outputs": [
    {
     "data": {
      "text/latex": [
       "$\\displaystyle \\left[\\begin{matrix}- \\frac{18025 \\sqrt{3}}{276} - \\frac{5153}{46} + 18 \\sqrt{6} \\left(\\frac{5153 \\sqrt{6}}{4968} + \\frac{18025 \\sqrt{2}}{9936}\\right) & - \\frac{18025 \\sqrt{3}}{276} - \\frac{5153}{46} + 18 \\sqrt{6} \\left(\\frac{5153 \\sqrt{6}}{4968} + \\frac{18025 \\sqrt{2}}{9936}\\right) & - \\frac{126175 \\sqrt{3}}{1656} - \\frac{36071}{276} + 21 \\sqrt{6} \\left(\\frac{5153 \\sqrt{6}}{4968} + \\frac{18025 \\sqrt{2}}{9936}\\right) & - \\frac{15459 \\sqrt{6}}{92} - \\frac{49475 \\sqrt{2}}{184} + 21 \\sqrt{6} \\left(\\frac{85}{276} + \\frac{325 \\sqrt{3}}{1656}\\right) + 18 \\sqrt{6} \\left(\\frac{5675}{1449} + \\frac{1475 \\sqrt{3}}{621}\\right) + 18 \\sqrt{6} \\left(\\frac{1475 \\sqrt{3}}{621} + \\frac{7331}{1449}\\right)\\\\- \\frac{2832}{23} - \\frac{5047 \\sqrt{3}}{92} + 18 \\sqrt{6} \\left(\\frac{5047 \\sqrt{2}}{3312} + \\frac{236 \\sqrt{6}}{207}\\right) & - \\frac{2832}{23} - \\frac{5047 \\sqrt{3}}{92} + 18 \\sqrt{6} \\left(\\frac{5047 \\sqrt{2}}{3312} + \\frac{236 \\sqrt{6}}{207}\\right) & - \\frac{3304}{23} - \\frac{35329 \\sqrt{3}}{552} + 21 \\sqrt{6} \\left(\\frac{5047 \\sqrt{2}}{3312} + \\frac{236 \\sqrt{6}}{207}\\right) & - \\frac{4248 \\sqrt{6}}{23} - \\frac{41559 \\sqrt{2}}{184} + 21 \\sqrt{6} \\left(\\frac{91 \\sqrt{3}}{552} + \\frac{8}{23}\\right) + 18 \\sqrt{6} \\left(\\frac{413 \\sqrt{3}}{207} + \\frac{2035}{483}\\right) + 18 \\sqrt{6} \\left(\\frac{413 \\sqrt{3}}{207} + \\frac{2725}{483}\\right)\\\\18 \\sqrt{6} \\left(- \\frac{20909 \\sqrt{2}}{9936} + \\frac{31 \\sqrt{6}}{9936}\\right) - \\frac{31}{92} + \\frac{20909 \\sqrt{3}}{276} & 18 \\sqrt{6} \\left(- \\frac{20909 \\sqrt{2}}{9936} + \\frac{31 \\sqrt{6}}{9936}\\right) - \\frac{31}{92} + \\frac{20909 \\sqrt{3}}{276} & 21 \\sqrt{6} \\left(- \\frac{20909 \\sqrt{2}}{9936} + \\frac{31 \\sqrt{6}}{9936}\\right) - \\frac{217}{552} + \\frac{146363 \\sqrt{3}}{1656} & 18 \\sqrt{6} \\left(- \\frac{1711 \\sqrt{3}}{621} - \\frac{277}{1449}\\right) + 18 \\sqrt{6} \\left(\\frac{137}{1449} - \\frac{1711 \\sqrt{3}}{621}\\right) + 21 \\sqrt{6} \\left(\\frac{59}{552} - \\frac{377 \\sqrt{3}}{1656}\\right) - \\frac{93 \\sqrt{6}}{184} + \\frac{57391 \\sqrt{2}}{184}\\\\- \\frac{42539 \\sqrt{6}}{138} - \\frac{20581 \\sqrt{2}}{92} + 18 \\sqrt{6} \\left(\\frac{20581 \\sqrt{3}}{4968} + \\frac{42539}{2484}\\right) & - \\frac{42539 \\sqrt{6}}{138} - \\frac{20581 \\sqrt{2}}{92} + 18 \\sqrt{6} \\left(\\frac{20581 \\sqrt{3}}{4968} + \\frac{42539}{2484}\\right) & - \\frac{297773 \\sqrt{6}}{828} - \\frac{144067 \\sqrt{2}}{552} + 21 \\sqrt{6} \\left(\\frac{20581 \\sqrt{3}}{4968} + \\frac{42539}{2484}\\right) & - \\frac{116761}{46} - \\frac{61743 \\sqrt{3}}{92} + 21 \\sqrt{6} \\left(\\frac{281 \\sqrt{2}}{552} + \\frac{767 \\sqrt{6}}{828}\\right) + 18 \\sqrt{6} \\left(\\frac{12662 \\sqrt{2}}{1449} + \\frac{6962 \\sqrt{6}}{621}\\right) + 18 \\sqrt{6} \\left(\\frac{13490 \\sqrt{2}}{1449} + \\frac{6962 \\sqrt{6}}{621}\\right)\\end{matrix}\\right]$"
      ],
      "text/plain": [
       "Matrix([\n",
       "[  -18025*sqrt(3)/276 - 5153/46 + 18*sqrt(6)*(5153*sqrt(6)/4968 + 18025*sqrt(2)/9936),   -18025*sqrt(3)/276 - 5153/46 + 18*sqrt(6)*(5153*sqrt(6)/4968 + 18025*sqrt(2)/9936),  -126175*sqrt(3)/1656 - 36071/276 + 21*sqrt(6)*(5153*sqrt(6)/4968 + 18025*sqrt(2)/9936),                   -15459*sqrt(6)/92 - 49475*sqrt(2)/184 + 21*sqrt(6)*(85/276 + 325*sqrt(3)/1656) + 18*sqrt(6)*(5675/1449 + 1475*sqrt(3)/621) + 18*sqrt(6)*(1475*sqrt(3)/621 + 7331/1449)],\n",
       "[       -2832/23 - 5047*sqrt(3)/92 + 18*sqrt(6)*(5047*sqrt(2)/3312 + 236*sqrt(6)/207),        -2832/23 - 5047*sqrt(3)/92 + 18*sqrt(6)*(5047*sqrt(2)/3312 + 236*sqrt(6)/207),         -3304/23 - 35329*sqrt(3)/552 + 21*sqrt(6)*(5047*sqrt(2)/3312 + 236*sqrt(6)/207),                            -4248*sqrt(6)/23 - 41559*sqrt(2)/184 + 21*sqrt(6)*(91*sqrt(3)/552 + 8/23) + 18*sqrt(6)*(413*sqrt(3)/207 + 2035/483) + 18*sqrt(6)*(413*sqrt(3)/207 + 2725/483)],\n",
       "[      18*sqrt(6)*(-20909*sqrt(2)/9936 + 31*sqrt(6)/9936) - 31/92 + 20909*sqrt(3)/276,       18*sqrt(6)*(-20909*sqrt(2)/9936 + 31*sqrt(6)/9936) - 31/92 + 20909*sqrt(3)/276,      21*sqrt(6)*(-20909*sqrt(2)/9936 + 31*sqrt(6)/9936) - 217/552 + 146363*sqrt(3)/1656,                       18*sqrt(6)*(-1711*sqrt(3)/621 - 277/1449) + 18*sqrt(6)*(137/1449 - 1711*sqrt(3)/621) + 21*sqrt(6)*(59/552 - 377*sqrt(3)/1656) - 93*sqrt(6)/184 + 57391*sqrt(2)/184],\n",
       "[-42539*sqrt(6)/138 - 20581*sqrt(2)/92 + 18*sqrt(6)*(20581*sqrt(3)/4968 + 42539/2484), -42539*sqrt(6)/138 - 20581*sqrt(2)/92 + 18*sqrt(6)*(20581*sqrt(3)/4968 + 42539/2484), -297773*sqrt(6)/828 - 144067*sqrt(2)/552 + 21*sqrt(6)*(20581*sqrt(3)/4968 + 42539/2484), -116761/46 - 61743*sqrt(3)/92 + 21*sqrt(6)*(281*sqrt(2)/552 + 767*sqrt(6)/828) + 18*sqrt(6)*(12662*sqrt(2)/1449 + 6962*sqrt(6)/621) + 18*sqrt(6)*(13490*sqrt(2)/1449 + 6962*sqrt(6)/621)]])"
      ]
     },
     "execution_count": 29,
     "metadata": {},
     "output_type": "execute_result"
    }
   ],
   "source": [
    "cero = BBT-Qinv*P*AAT\n",
    "cero"
   ]
  },
  {
   "cell_type": "code",
   "execution_count": 32,
   "metadata": {},
   "outputs": [
    {
     "data": {
      "text/latex": [
       "$\\displaystyle - \\frac{18025 \\sqrt{3}}{276} - \\frac{5153}{46} + 18 \\sqrt{6} \\left(\\frac{5153 \\sqrt{6}}{4968} + \\frac{18025 \\sqrt{2}}{9936}\\right)$"
      ],
      "text/plain": [
       "-18025*sqrt(3)/276 - 5153/46 + 18*sqrt(6)*(5153*sqrt(6)/4968 + 18025*sqrt(2)/9936)"
      ]
     },
     "execution_count": 32,
     "metadata": {},
     "output_type": "execute_result"
    }
   ],
   "source": [
    "cero[0]"
   ]
  },
  {
   "cell_type": "code",
   "execution_count": 28,
   "metadata": {},
   "outputs": [
    {
     "data": {
      "text/latex": [
       "$\\displaystyle \\left[\\begin{matrix}\\frac{25075 \\sqrt{3}}{621} + \\frac{124627}{1449} & \\frac{96475}{1449} + \\frac{25075 \\sqrt{3}}{621} & \\frac{1445}{276} + \\frac{5525 \\sqrt{3}}{1656} & \\frac{87601 \\sqrt{6}}{4968} + \\frac{306425 \\sqrt{2}}{9936}\\\\\\frac{7021 \\sqrt{3}}{207} + \\frac{34595}{483} & \\frac{7021 \\sqrt{3}}{207} + \\frac{46325}{483} & \\frac{1547 \\sqrt{3}}{552} + \\frac{136}{23} & \\frac{85799 \\sqrt{2}}{3312} + \\frac{4012 \\sqrt{6}}{207}\\\\- \\frac{29087 \\sqrt{3}}{621} - \\frac{4709}{1449} & \\frac{2329}{1449} - \\frac{29087 \\sqrt{3}}{621} & \\frac{1003}{552} - \\frac{6409 \\sqrt{3}}{1656} & - \\frac{355453 \\sqrt{2}}{9936} + \\frac{527 \\sqrt{6}}{9936}\\\\\\frac{229330 \\sqrt{2}}{1449} + \\frac{118354 \\sqrt{6}}{621} & \\frac{215254 \\sqrt{2}}{1449} + \\frac{118354 \\sqrt{6}}{621} & \\frac{4777 \\sqrt{2}}{552} + \\frac{13039 \\sqrt{6}}{828} & \\frac{349877 \\sqrt{3}}{4968} + \\frac{723163}{2484}\\end{matrix}\\right]$"
      ],
      "text/plain": [
       "Matrix([\n",
       "[         25075*sqrt(3)/621 + 124627/1449,           96475/1449 + 25075*sqrt(3)/621,         1445/276 + 5525*sqrt(3)/1656, 87601*sqrt(6)/4968 + 306425*sqrt(2)/9936],\n",
       "[            7021*sqrt(3)/207 + 34595/483,             7021*sqrt(3)/207 + 46325/483,            1547*sqrt(3)/552 + 136/23,    85799*sqrt(2)/3312 + 4012*sqrt(6)/207],\n",
       "[          -29087*sqrt(3)/621 - 4709/1449,            2329/1449 - 29087*sqrt(3)/621,         1003/552 - 6409*sqrt(3)/1656,  -355453*sqrt(2)/9936 + 527*sqrt(6)/9936],\n",
       "[229330*sqrt(2)/1449 + 118354*sqrt(6)/621, 215254*sqrt(2)/1449 + 118354*sqrt(6)/621, 4777*sqrt(2)/552 + 13039*sqrt(6)/828,        349877*sqrt(3)/4968 + 723163/2484]])"
      ]
     },
     "execution_count": 28,
     "metadata": {},
     "output_type": "execute_result"
    }
   ],
   "source": []
  },
  {
   "cell_type": "code",
   "execution_count": null,
   "metadata": {},
   "outputs": [],
   "source": []
  }
 ],
 "metadata": {
  "kernelspec": {
   "display_name": "Python 3",
   "language": "python",
   "name": "python3"
  },
  "language_info": {
   "codemirror_mode": {
    "name": "ipython",
    "version": 3
   },
   "file_extension": ".py",
   "mimetype": "text/x-python",
   "name": "python",
   "nbconvert_exporter": "python",
   "pygments_lexer": "ipython3",
   "version": "3.8.5"
  }
 },
 "nbformat": 4,
 "nbformat_minor": 4
}
