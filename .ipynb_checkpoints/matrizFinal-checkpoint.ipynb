{
 "cells": [
  {
   "cell_type": "code",
   "execution_count": 75,
   "metadata": {},
   "outputs": [],
   "source": [
    "import numpy as np\n",
    "from sympy import *\n",
    "import load"
   ]
  },
  {
   "cell_type": "code",
   "execution_count": 76,
   "metadata": {},
   "outputs": [],
   "source": [
    "# %load main.py\n",
    "#!/usr/bin/env python"
   ]
  },
  {
   "cell_type": "code",
   "execution_count": 77,
   "metadata": {},
   "outputs": [
    {
     "name": "stdout",
     "output_type": "stream",
     "text": [
      "   p  q  degeneracy  dtot is_symm\n",
      "0  0  0           1     1       S\n",
      "1  0  3           1     1       A\n",
      "2  1  1           2     2       S\n",
      "3  1  1           1     2       A\n",
      "4  2  2           1     1       S\n",
      "5  3  0           1     1       A\n",
      "dimension  8\n",
      "Imax  1\n",
      "Ymax  0\n",
      "Range  3\n",
      "S and A\n"
     ]
    },
    {
     "ename": "TypeError",
     "evalue": "get_cgDecays() takes 9 positional arguments but 10 were given",
     "output_type": "error",
     "traceback": [
      "\u001b[0;31m---------------------------------------------------------------------------\u001b[0m",
      "\u001b[0;31mTypeError\u001b[0m                                 Traceback (most recent call last)",
      "\u001b[0;32m~/Git/Sum_Rules/main.py\u001b[0m in \u001b[0;36m<module>\u001b[0;34m\u001b[0m\n\u001b[1;32m    175\u001b[0m \u001b[0;34m\u001b[0m\u001b[0m\n\u001b[1;32m    176\u001b[0m \u001b[0;34m\u001b[0m\u001b[0m\n\u001b[0;32m--> 177\u001b[0;31m \u001b[0mmatrizFinal\u001b[0m \u001b[0;34m=\u001b[0m \u001b[0mdcf\u001b[0m\u001b[0;34m.\u001b[0m\u001b[0mget_cgDecays\u001b[0m\u001b[0;34m(\u001b[0m\u001b[0mmB\u001b[0m\u001b[0;34m,\u001b[0m\u001b[0mmultiplets\u001b[0m\u001b[0;34m,\u001b[0m\u001b[0me0klm\u001b[0m\u001b[0;34m,\u001b[0m\u001b[0mdf\u001b[0m\u001b[0;34m,\u001b[0m\u001b[0mdfIS\u001b[0m\u001b[0;34m,\u001b[0m\u001b[0mdfFS\u001b[0m\u001b[0;34m,\u001b[0m\u001b[0mfcoef\u001b[0m\u001b[0;34m,\u001b[0m\u001b[0mtags\u001b[0m\u001b[0;34m,\u001b[0m\u001b[0mtagst\u001b[0m\u001b[0;34m,\u001b[0m\u001b[0msteps\u001b[0m\u001b[0;34m)\u001b[0m\u001b[0;34m\u001b[0m\u001b[0;34m\u001b[0m\u001b[0m\n\u001b[0m\u001b[1;32m    178\u001b[0m \u001b[0;34m\u001b[0m\u001b[0m\n\u001b[1;32m    179\u001b[0m \u001b[0mprint\u001b[0m\u001b[0;34m(\u001b[0m\u001b[0mmatrizFinal\u001b[0m\u001b[0;34m)\u001b[0m\u001b[0;34m\u001b[0m\u001b[0;34m\u001b[0m\u001b[0m\n",
      "\u001b[0;31mTypeError\u001b[0m: get_cgDecays() takes 9 positional arguments but 10 were given"
     ]
    }
   ],
   "source": [
    "%run main.py"
   ]
  },
  {
   "cell_type": "code",
   "execution_count": 4,
   "metadata": {},
   "outputs": [
    {
     "data": {
      "text/plain": [
       "list"
      ]
     },
     "execution_count": 4,
     "metadata": {},
     "output_type": "execute_result"
    }
   ],
   "source": [
    "type(matrizFinal)"
   ]
  },
  {
   "cell_type": "code",
   "execution_count": 5,
   "metadata": {},
   "outputs": [
    {
     "data": {
      "text/plain": [
       "8"
      ]
     },
     "execution_count": 5,
     "metadata": {},
     "output_type": "execute_result"
    }
   ],
   "source": [
    "len(matrizFinal)"
   ]
  },
  {
   "cell_type": "code",
   "execution_count": 29,
   "metadata": {},
   "outputs": [
    {
     "data": {
      "text/latex": [
       "$\\displaystyle \\left[\\begin{matrix}- \\frac{\\sqrt{5}}{10} & 0 & \\frac{1}{20} & \\frac{\\sqrt{5}}{20} & \\frac{9}{20} & G_{0}\\\\\\frac{\\sqrt{30}}{10} & 0 & - \\frac{\\sqrt{6}}{20} & - \\frac{\\sqrt{30}}{20} & \\frac{\\sqrt{6}}{20} & G_{1}\\\\- \\frac{\\sqrt{15}}{10} & 0 & \\frac{\\sqrt{3}}{20} & \\frac{\\sqrt{15}}{20} & - \\frac{\\sqrt{3}}{20} & G_{2}\\\\- \\frac{\\sqrt{5}}{10} & 0 & \\frac{1}{20} & \\frac{\\sqrt{5}}{20} & \\frac{9}{20} & G_{3}\\\\- \\frac{\\sqrt{15}}{10} & 0 & \\frac{\\sqrt{3}}{20} & \\frac{\\sqrt{15}}{20} & - \\frac{\\sqrt{3}}{20} & G_{4}\\\\\\frac{\\sqrt{30}}{10} & 0 & - \\frac{\\sqrt{6}}{20} & - \\frac{\\sqrt{30}}{20} & \\frac{\\sqrt{6}}{20} & G_{5}\\\\- \\frac{\\sqrt{5}}{10} & 0 & \\frac{1}{20} & \\frac{\\sqrt{5}}{20} & \\frac{9}{20} & G_{6}\\\\\\frac{\\sqrt{15}}{10} & 0 & - \\frac{\\sqrt{3}}{20} & - \\frac{\\sqrt{15}}{20} & \\frac{\\sqrt{3}}{20} & G_{7}\\\\- \\frac{\\sqrt{30}}{10} & 0 & \\frac{\\sqrt{6}}{20} & \\frac{\\sqrt{30}}{20} & - \\frac{\\sqrt{6}}{20} & G_{8}\\\\- \\frac{\\sqrt{5}}{10} & 0 & \\frac{1}{20} & \\frac{\\sqrt{5}}{20} & \\frac{9}{20} & G_{9}\\\\- \\frac{\\sqrt{30}}{10} & 0 & \\frac{\\sqrt{6}}{20} & \\frac{\\sqrt{30}}{20} & - \\frac{\\sqrt{6}}{20} & G_{10}\\\\\\frac{\\sqrt{15}}{10} & 0 & - \\frac{\\sqrt{3}}{20} & - \\frac{\\sqrt{15}}{20} & \\frac{\\sqrt{3}}{20} & G_{11}\\\\- \\frac{\\sqrt{30}}{10} & 0 & - \\frac{\\sqrt{6}}{10} & 0 & \\frac{\\sqrt{6}}{10} & G_{12}\\\\\\frac{\\sqrt{5}}{5} & 0 & \\frac{1}{5} & 0 & \\frac{3}{10} & G_{13}\\\\\\frac{\\sqrt{5}}{5} & 0 & \\frac{1}{5} & 0 & \\frac{3}{10} & G_{14}\\\\0 & 0 & 0 & 0 & 0 & G_{15}\\\\0 & 0 & 0 & 0 & 0 & G_{16}\\\\- \\frac{\\sqrt{30}}{10} & 0 & - \\frac{\\sqrt{6}}{10} & 0 & \\frac{\\sqrt{6}}{10} & G_{17}\\\\- \\frac{\\sqrt{15}}{10} & 0 & - \\frac{\\sqrt{3}}{10} & 0 & \\frac{\\sqrt{3}}{10} & G_{18}\\\\- \\frac{\\sqrt{15}}{10} & 0 & - \\frac{\\sqrt{3}}{10} & 0 & \\frac{\\sqrt{3}}{10} & G_{19}\\\\\\frac{\\sqrt{5}}{5} & 0 & \\frac{1}{5} & 0 & \\frac{3}{10} & G_{20}\\\\\\frac{\\sqrt{5}}{5} & 0 & \\frac{1}{5} & 0 & \\frac{3}{10} & G_{21}\\\\0 & 0 & 0 & 0 & 0 & G_{22}\\\\0 & 0 & 0 & 0 & 0 & G_{23}\\\\0 & 0 & 0 & 0 & 0 & G_{24}\\\\- \\frac{\\sqrt{15}}{10} & 0 & - \\frac{\\sqrt{3}}{10} & 0 & \\frac{\\sqrt{3}}{10} & G_{25}\\\\- \\frac{\\sqrt{15}}{10} & 0 & - \\frac{\\sqrt{3}}{10} & 0 & \\frac{\\sqrt{3}}{10} & G_{26}\\\\- \\frac{\\sqrt{30}}{10} & 0 & - \\frac{\\sqrt{6}}{10} & 0 & \\frac{\\sqrt{6}}{10} & G_{27}\\\\\\frac{\\sqrt{5}}{5} & 0 & \\frac{1}{5} & 0 & \\frac{3}{10} & G_{28}\\\\\\frac{\\sqrt{5}}{5} & 0 & \\frac{1}{5} & 0 & \\frac{3}{10} & G_{29}\\\\0 & 0 & 0 & 0 & 0 & G_{30}\\\\0 & 0 & 0 & 0 & 0 & G_{31}\\\\- \\frac{\\sqrt{30}}{10} & 0 & - \\frac{\\sqrt{6}}{10} & 0 & \\frac{\\sqrt{6}}{10} & G_{32}\\\\- \\frac{\\sqrt{5}}{10} & 0 & \\frac{1}{20} & - \\frac{\\sqrt{5}}{20} & \\frac{9}{20} & G_{33}\\\\\\frac{\\sqrt{15}}{10} & 0 & - \\frac{\\sqrt{3}}{20} & \\frac{\\sqrt{15}}{20} & \\frac{\\sqrt{3}}{20} & G_{34}\\\\- \\frac{\\sqrt{30}}{10} & 0 & \\frac{\\sqrt{6}}{20} & - \\frac{\\sqrt{30}}{20} & - \\frac{\\sqrt{6}}{20} & G_{35}\\\\- \\frac{\\sqrt{5}}{10} & 0 & \\frac{1}{20} & - \\frac{\\sqrt{5}}{20} & \\frac{9}{20} & G_{36}\\\\- \\frac{\\sqrt{30}}{10} & 0 & \\frac{\\sqrt{6}}{20} & - \\frac{\\sqrt{30}}{20} & - \\frac{\\sqrt{6}}{20} & G_{37}\\\\\\frac{\\sqrt{15}}{10} & 0 & - \\frac{\\sqrt{3}}{20} & \\frac{\\sqrt{15}}{20} & \\frac{\\sqrt{3}}{20} & G_{38}\\\\- \\frac{\\sqrt{5}}{10} & 0 & \\frac{1}{20} & - \\frac{\\sqrt{5}}{20} & \\frac{9}{20} & G_{39}\\\\\\frac{\\sqrt{30}}{10} & 0 & - \\frac{\\sqrt{6}}{20} & \\frac{\\sqrt{30}}{20} & \\frac{\\sqrt{6}}{20} & G_{40}\\\\- \\frac{\\sqrt{15}}{10} & 0 & \\frac{\\sqrt{3}}{20} & - \\frac{\\sqrt{15}}{20} & - \\frac{\\sqrt{3}}{20} & G_{41}\\\\- \\frac{\\sqrt{5}}{10} & 0 & \\frac{1}{20} & - \\frac{\\sqrt{5}}{20} & \\frac{9}{20} & G_{42}\\\\- \\frac{\\sqrt{15}}{10} & 0 & \\frac{\\sqrt{3}}{20} & - \\frac{\\sqrt{15}}{20} & - \\frac{\\sqrt{3}}{20} & G_{43}\\\\\\frac{\\sqrt{30}}{10} & 0 & - \\frac{\\sqrt{6}}{20} & \\frac{\\sqrt{30}}{20} & \\frac{\\sqrt{6}}{20} & G_{44}\\\\\\frac{\\sqrt{5}}{10} & - \\frac{1}{8} & - \\frac{1}{10} & 0 & \\frac{9}{40} & G_{45}\\\\- \\frac{\\sqrt{5}}{10} & \\frac{1}{8} & \\frac{1}{10} & 0 & - \\frac{9}{40} & G_{46}\\\\- \\frac{\\sqrt{5}}{5} & \\frac{1}{8} & \\frac{1}{5} & 0 & \\frac{27}{40} & G_{47}\\\\- \\frac{\\sqrt{5}}{5} & - \\frac{1}{8} & \\frac{1}{5} & 0 & - \\frac{3}{40} & G_{48}\\\\\\frac{\\sqrt{5}}{5} & \\frac{1}{8} & - \\frac{1}{5} & 0 & \\frac{3}{40} & G_{49}\\\\- \\frac{\\sqrt{5}}{5} & - \\frac{1}{8} & \\frac{1}{5} & 0 & - \\frac{3}{40} & G_{50}\\\\- \\frac{\\sqrt{5}}{10} & \\frac{1}{8} & \\frac{1}{10} & 0 & - \\frac{9}{40} & G_{51}\\\\\\frac{\\sqrt{5}}{10} & - \\frac{1}{8} & - \\frac{1}{10} & 0 & \\frac{9}{40} & G_{52}\\end{matrix}\\right]$"
      ],
      "text/plain": [
       "Matrix([\n",
       "[ -sqrt(5)/10,    0,        1/20,   sqrt(5)/20,        9/20,  G0],\n",
       "[ sqrt(30)/10,    0, -sqrt(6)/20, -sqrt(30)/20,  sqrt(6)/20,  G1],\n",
       "[-sqrt(15)/10,    0,  sqrt(3)/20,  sqrt(15)/20, -sqrt(3)/20,  G2],\n",
       "[ -sqrt(5)/10,    0,        1/20,   sqrt(5)/20,        9/20,  G3],\n",
       "[-sqrt(15)/10,    0,  sqrt(3)/20,  sqrt(15)/20, -sqrt(3)/20,  G4],\n",
       "[ sqrt(30)/10,    0, -sqrt(6)/20, -sqrt(30)/20,  sqrt(6)/20,  G5],\n",
       "[ -sqrt(5)/10,    0,        1/20,   sqrt(5)/20,        9/20,  G6],\n",
       "[ sqrt(15)/10,    0, -sqrt(3)/20, -sqrt(15)/20,  sqrt(3)/20,  G7],\n",
       "[-sqrt(30)/10,    0,  sqrt(6)/20,  sqrt(30)/20, -sqrt(6)/20,  G8],\n",
       "[ -sqrt(5)/10,    0,        1/20,   sqrt(5)/20,        9/20,  G9],\n",
       "[-sqrt(30)/10,    0,  sqrt(6)/20,  sqrt(30)/20, -sqrt(6)/20, G10],\n",
       "[ sqrt(15)/10,    0, -sqrt(3)/20, -sqrt(15)/20,  sqrt(3)/20, G11],\n",
       "[-sqrt(30)/10,    0, -sqrt(6)/10,            0,  sqrt(6)/10, G12],\n",
       "[   sqrt(5)/5,    0,         1/5,            0,        3/10, G13],\n",
       "[   sqrt(5)/5,    0,         1/5,            0,        3/10, G14],\n",
       "[           0,    0,           0,            0,           0, G15],\n",
       "[           0,    0,           0,            0,           0, G16],\n",
       "[-sqrt(30)/10,    0, -sqrt(6)/10,            0,  sqrt(6)/10, G17],\n",
       "[-sqrt(15)/10,    0, -sqrt(3)/10,            0,  sqrt(3)/10, G18],\n",
       "[-sqrt(15)/10,    0, -sqrt(3)/10,            0,  sqrt(3)/10, G19],\n",
       "[   sqrt(5)/5,    0,         1/5,            0,        3/10, G20],\n",
       "[   sqrt(5)/5,    0,         1/5,            0,        3/10, G21],\n",
       "[           0,    0,           0,            0,           0, G22],\n",
       "[           0,    0,           0,            0,           0, G23],\n",
       "[           0,    0,           0,            0,           0, G24],\n",
       "[-sqrt(15)/10,    0, -sqrt(3)/10,            0,  sqrt(3)/10, G25],\n",
       "[-sqrt(15)/10,    0, -sqrt(3)/10,            0,  sqrt(3)/10, G26],\n",
       "[-sqrt(30)/10,    0, -sqrt(6)/10,            0,  sqrt(6)/10, G27],\n",
       "[   sqrt(5)/5,    0,         1/5,            0,        3/10, G28],\n",
       "[   sqrt(5)/5,    0,         1/5,            0,        3/10, G29],\n",
       "[           0,    0,           0,            0,           0, G30],\n",
       "[           0,    0,           0,            0,           0, G31],\n",
       "[-sqrt(30)/10,    0, -sqrt(6)/10,            0,  sqrt(6)/10, G32],\n",
       "[ -sqrt(5)/10,    0,        1/20,  -sqrt(5)/20,        9/20, G33],\n",
       "[ sqrt(15)/10,    0, -sqrt(3)/20,  sqrt(15)/20,  sqrt(3)/20, G34],\n",
       "[-sqrt(30)/10,    0,  sqrt(6)/20, -sqrt(30)/20, -sqrt(6)/20, G35],\n",
       "[ -sqrt(5)/10,    0,        1/20,  -sqrt(5)/20,        9/20, G36],\n",
       "[-sqrt(30)/10,    0,  sqrt(6)/20, -sqrt(30)/20, -sqrt(6)/20, G37],\n",
       "[ sqrt(15)/10,    0, -sqrt(3)/20,  sqrt(15)/20,  sqrt(3)/20, G38],\n",
       "[ -sqrt(5)/10,    0,        1/20,  -sqrt(5)/20,        9/20, G39],\n",
       "[ sqrt(30)/10,    0, -sqrt(6)/20,  sqrt(30)/20,  sqrt(6)/20, G40],\n",
       "[-sqrt(15)/10,    0,  sqrt(3)/20, -sqrt(15)/20, -sqrt(3)/20, G41],\n",
       "[ -sqrt(5)/10,    0,        1/20,  -sqrt(5)/20,        9/20, G42],\n",
       "[-sqrt(15)/10,    0,  sqrt(3)/20, -sqrt(15)/20, -sqrt(3)/20, G43],\n",
       "[ sqrt(30)/10,    0, -sqrt(6)/20,  sqrt(30)/20,  sqrt(6)/20, G44],\n",
       "[  sqrt(5)/10, -1/8,       -1/10,            0,        9/40, G45],\n",
       "[ -sqrt(5)/10,  1/8,        1/10,            0,       -9/40, G46],\n",
       "[  -sqrt(5)/5,  1/8,         1/5,            0,       27/40, G47],\n",
       "[  -sqrt(5)/5, -1/8,         1/5,            0,       -3/40, G48],\n",
       "[   sqrt(5)/5,  1/8,        -1/5,            0,        3/40, G49],\n",
       "[  -sqrt(5)/5, -1/8,         1/5,            0,       -3/40, G50],\n",
       "[ -sqrt(5)/10,  1/8,        1/10,            0,       -9/40, G51],\n",
       "[  sqrt(5)/10, -1/8,       -1/10,            0,        9/40, G52]])"
      ]
     },
     "execution_count": 29,
     "metadata": {},
     "output_type": "execute_result"
    }
   ],
   "source": [
    "Gmatrix = Matrix(matrizFinal)\n",
    "Gmatrix"
   ]
  },
  {
   "cell_type": "code",
   "execution_count": 30,
   "metadata": {},
   "outputs": [
    {
     "data": {
      "text/plain": [
       "53"
      ]
     },
     "execution_count": 30,
     "metadata": {},
     "output_type": "execute_result"
    }
   ],
   "source": [
    "len(Gmatrix[:,0])"
   ]
  },
  {
   "cell_type": "code",
   "execution_count": 41,
   "metadata": {},
   "outputs": [
    {
     "data": {
      "text/latex": [
       "$\\displaystyle \\left[\\begin{matrix}- \\frac{\\sqrt{5}}{10} & 0 & \\frac{1}{20} & \\frac{\\sqrt{5}}{20} & \\frac{9}{20} & G_{0}\\\\\\frac{\\sqrt{30}}{10} & 0 & - \\frac{\\sqrt{6}}{20} & - \\frac{\\sqrt{30}}{20} & \\frac{\\sqrt{6}}{20} & G_{1}\\\\- \\frac{\\sqrt{15}}{10} & 0 & \\frac{\\sqrt{3}}{20} & \\frac{\\sqrt{15}}{20} & - \\frac{\\sqrt{3}}{20} & G_{2}\\\\- \\frac{\\sqrt{5}}{10} & 0 & \\frac{1}{20} & \\frac{\\sqrt{5}}{20} & \\frac{9}{20} & G_{3}\\\\- \\frac{\\sqrt{15}}{10} & 0 & \\frac{\\sqrt{3}}{20} & \\frac{\\sqrt{15}}{20} & - \\frac{\\sqrt{3}}{20} & G_{4}\\\\\\frac{\\sqrt{30}}{10} & 0 & - \\frac{\\sqrt{6}}{20} & - \\frac{\\sqrt{30}}{20} & \\frac{\\sqrt{6}}{20} & G_{5}\\\\- \\frac{\\sqrt{5}}{10} & 0 & \\frac{1}{20} & \\frac{\\sqrt{5}}{20} & \\frac{9}{20} & G_{6}\\\\\\frac{\\sqrt{15}}{10} & 0 & - \\frac{\\sqrt{3}}{20} & - \\frac{\\sqrt{15}}{20} & \\frac{\\sqrt{3}}{20} & G_{7}\\\\- \\frac{\\sqrt{30}}{10} & 0 & \\frac{\\sqrt{6}}{20} & \\frac{\\sqrt{30}}{20} & - \\frac{\\sqrt{6}}{20} & G_{8}\\\\- \\frac{\\sqrt{5}}{10} & 0 & \\frac{1}{20} & \\frac{\\sqrt{5}}{20} & \\frac{9}{20} & G_{9}\\\\- \\frac{\\sqrt{30}}{10} & 0 & \\frac{\\sqrt{6}}{20} & \\frac{\\sqrt{30}}{20} & - \\frac{\\sqrt{6}}{20} & G_{10}\\\\\\frac{\\sqrt{15}}{10} & 0 & - \\frac{\\sqrt{3}}{20} & - \\frac{\\sqrt{15}}{20} & \\frac{\\sqrt{3}}{20} & G_{11}\\\\- \\frac{\\sqrt{30}}{10} & 0 & - \\frac{\\sqrt{6}}{10} & 0 & \\frac{\\sqrt{6}}{10} & G_{12}\\\\\\frac{\\sqrt{5}}{5} & 0 & \\frac{1}{5} & 0 & \\frac{3}{10} & G_{13}\\\\\\frac{\\sqrt{5}}{5} & 0 & \\frac{1}{5} & 0 & \\frac{3}{10} & G_{14}\\\\- \\frac{\\sqrt{30}}{10} & 0 & - \\frac{\\sqrt{6}}{10} & 0 & \\frac{\\sqrt{6}}{10} & G_{17}\\\\- \\frac{\\sqrt{15}}{10} & 0 & - \\frac{\\sqrt{3}}{10} & 0 & \\frac{\\sqrt{3}}{10} & G_{18}\\\\- \\frac{\\sqrt{15}}{10} & 0 & - \\frac{\\sqrt{3}}{10} & 0 & \\frac{\\sqrt{3}}{10} & G_{19}\\\\\\frac{\\sqrt{5}}{5} & 0 & \\frac{1}{5} & 0 & \\frac{3}{10} & G_{20}\\\\\\frac{\\sqrt{5}}{5} & 0 & \\frac{1}{5} & 0 & \\frac{3}{10} & G_{21}\\\\- \\frac{\\sqrt{15}}{10} & 0 & - \\frac{\\sqrt{3}}{10} & 0 & \\frac{\\sqrt{3}}{10} & G_{25}\\\\- \\frac{\\sqrt{15}}{10} & 0 & - \\frac{\\sqrt{3}}{10} & 0 & \\frac{\\sqrt{3}}{10} & G_{26}\\\\- \\frac{\\sqrt{30}}{10} & 0 & - \\frac{\\sqrt{6}}{10} & 0 & \\frac{\\sqrt{6}}{10} & G_{27}\\\\\\frac{\\sqrt{5}}{5} & 0 & \\frac{1}{5} & 0 & \\frac{3}{10} & G_{28}\\\\\\frac{\\sqrt{5}}{5} & 0 & \\frac{1}{5} & 0 & \\frac{3}{10} & G_{29}\\\\- \\frac{\\sqrt{30}}{10} & 0 & - \\frac{\\sqrt{6}}{10} & 0 & \\frac{\\sqrt{6}}{10} & G_{32}\\\\- \\frac{\\sqrt{5}}{10} & 0 & \\frac{1}{20} & - \\frac{\\sqrt{5}}{20} & \\frac{9}{20} & G_{33}\\\\\\frac{\\sqrt{15}}{10} & 0 & - \\frac{\\sqrt{3}}{20} & \\frac{\\sqrt{15}}{20} & \\frac{\\sqrt{3}}{20} & G_{34}\\\\- \\frac{\\sqrt{30}}{10} & 0 & \\frac{\\sqrt{6}}{20} & - \\frac{\\sqrt{30}}{20} & - \\frac{\\sqrt{6}}{20} & G_{35}\\\\- \\frac{\\sqrt{5}}{10} & 0 & \\frac{1}{20} & - \\frac{\\sqrt{5}}{20} & \\frac{9}{20} & G_{36}\\\\- \\frac{\\sqrt{30}}{10} & 0 & \\frac{\\sqrt{6}}{20} & - \\frac{\\sqrt{30}}{20} & - \\frac{\\sqrt{6}}{20} & G_{37}\\\\\\frac{\\sqrt{15}}{10} & 0 & - \\frac{\\sqrt{3}}{20} & \\frac{\\sqrt{15}}{20} & \\frac{\\sqrt{3}}{20} & G_{38}\\\\- \\frac{\\sqrt{5}}{10} & 0 & \\frac{1}{20} & - \\frac{\\sqrt{5}}{20} & \\frac{9}{20} & G_{39}\\\\\\frac{\\sqrt{30}}{10} & 0 & - \\frac{\\sqrt{6}}{20} & \\frac{\\sqrt{30}}{20} & \\frac{\\sqrt{6}}{20} & G_{40}\\\\- \\frac{\\sqrt{15}}{10} & 0 & \\frac{\\sqrt{3}}{20} & - \\frac{\\sqrt{15}}{20} & - \\frac{\\sqrt{3}}{20} & G_{41}\\\\- \\frac{\\sqrt{5}}{10} & 0 & \\frac{1}{20} & - \\frac{\\sqrt{5}}{20} & \\frac{9}{20} & G_{42}\\\\- \\frac{\\sqrt{15}}{10} & 0 & \\frac{\\sqrt{3}}{20} & - \\frac{\\sqrt{15}}{20} & - \\frac{\\sqrt{3}}{20} & G_{43}\\\\\\frac{\\sqrt{30}}{10} & 0 & - \\frac{\\sqrt{6}}{20} & \\frac{\\sqrt{30}}{20} & \\frac{\\sqrt{6}}{20} & G_{44}\\\\\\frac{\\sqrt{5}}{10} & - \\frac{1}{8} & - \\frac{1}{10} & 0 & \\frac{9}{40} & G_{45}\\\\- \\frac{\\sqrt{5}}{10} & \\frac{1}{8} & \\frac{1}{10} & 0 & - \\frac{9}{40} & G_{46}\\\\- \\frac{\\sqrt{5}}{5} & \\frac{1}{8} & \\frac{1}{5} & 0 & \\frac{27}{40} & G_{47}\\\\- \\frac{\\sqrt{5}}{5} & - \\frac{1}{8} & \\frac{1}{5} & 0 & - \\frac{3}{40} & G_{48}\\\\\\frac{\\sqrt{5}}{5} & \\frac{1}{8} & - \\frac{1}{5} & 0 & \\frac{3}{40} & G_{49}\\\\- \\frac{\\sqrt{5}}{5} & - \\frac{1}{8} & \\frac{1}{5} & 0 & - \\frac{3}{40} & G_{50}\\\\- \\frac{\\sqrt{5}}{10} & \\frac{1}{8} & \\frac{1}{10} & 0 & - \\frac{9}{40} & G_{51}\\\\\\frac{\\sqrt{5}}{10} & - \\frac{1}{8} & - \\frac{1}{10} & 0 & \\frac{9}{40} & G_{52}\\end{matrix}\\right]$"
      ],
      "text/plain": [
       "Matrix([\n",
       "[ -sqrt(5)/10,    0,        1/20,   sqrt(5)/20,        9/20,  G0],\n",
       "[ sqrt(30)/10,    0, -sqrt(6)/20, -sqrt(30)/20,  sqrt(6)/20,  G1],\n",
       "[-sqrt(15)/10,    0,  sqrt(3)/20,  sqrt(15)/20, -sqrt(3)/20,  G2],\n",
       "[ -sqrt(5)/10,    0,        1/20,   sqrt(5)/20,        9/20,  G3],\n",
       "[-sqrt(15)/10,    0,  sqrt(3)/20,  sqrt(15)/20, -sqrt(3)/20,  G4],\n",
       "[ sqrt(30)/10,    0, -sqrt(6)/20, -sqrt(30)/20,  sqrt(6)/20,  G5],\n",
       "[ -sqrt(5)/10,    0,        1/20,   sqrt(5)/20,        9/20,  G6],\n",
       "[ sqrt(15)/10,    0, -sqrt(3)/20, -sqrt(15)/20,  sqrt(3)/20,  G7],\n",
       "[-sqrt(30)/10,    0,  sqrt(6)/20,  sqrt(30)/20, -sqrt(6)/20,  G8],\n",
       "[ -sqrt(5)/10,    0,        1/20,   sqrt(5)/20,        9/20,  G9],\n",
       "[-sqrt(30)/10,    0,  sqrt(6)/20,  sqrt(30)/20, -sqrt(6)/20, G10],\n",
       "[ sqrt(15)/10,    0, -sqrt(3)/20, -sqrt(15)/20,  sqrt(3)/20, G11],\n",
       "[-sqrt(30)/10,    0, -sqrt(6)/10,            0,  sqrt(6)/10, G12],\n",
       "[   sqrt(5)/5,    0,         1/5,            0,        3/10, G13],\n",
       "[   sqrt(5)/5,    0,         1/5,            0,        3/10, G14],\n",
       "[-sqrt(30)/10,    0, -sqrt(6)/10,            0,  sqrt(6)/10, G17],\n",
       "[-sqrt(15)/10,    0, -sqrt(3)/10,            0,  sqrt(3)/10, G18],\n",
       "[-sqrt(15)/10,    0, -sqrt(3)/10,            0,  sqrt(3)/10, G19],\n",
       "[   sqrt(5)/5,    0,         1/5,            0,        3/10, G20],\n",
       "[   sqrt(5)/5,    0,         1/5,            0,        3/10, G21],\n",
       "[-sqrt(15)/10,    0, -sqrt(3)/10,            0,  sqrt(3)/10, G25],\n",
       "[-sqrt(15)/10,    0, -sqrt(3)/10,            0,  sqrt(3)/10, G26],\n",
       "[-sqrt(30)/10,    0, -sqrt(6)/10,            0,  sqrt(6)/10, G27],\n",
       "[   sqrt(5)/5,    0,         1/5,            0,        3/10, G28],\n",
       "[   sqrt(5)/5,    0,         1/5,            0,        3/10, G29],\n",
       "[-sqrt(30)/10,    0, -sqrt(6)/10,            0,  sqrt(6)/10, G32],\n",
       "[ -sqrt(5)/10,    0,        1/20,  -sqrt(5)/20,        9/20, G33],\n",
       "[ sqrt(15)/10,    0, -sqrt(3)/20,  sqrt(15)/20,  sqrt(3)/20, G34],\n",
       "[-sqrt(30)/10,    0,  sqrt(6)/20, -sqrt(30)/20, -sqrt(6)/20, G35],\n",
       "[ -sqrt(5)/10,    0,        1/20,  -sqrt(5)/20,        9/20, G36],\n",
       "[-sqrt(30)/10,    0,  sqrt(6)/20, -sqrt(30)/20, -sqrt(6)/20, G37],\n",
       "[ sqrt(15)/10,    0, -sqrt(3)/20,  sqrt(15)/20,  sqrt(3)/20, G38],\n",
       "[ -sqrt(5)/10,    0,        1/20,  -sqrt(5)/20,        9/20, G39],\n",
       "[ sqrt(30)/10,    0, -sqrt(6)/20,  sqrt(30)/20,  sqrt(6)/20, G40],\n",
       "[-sqrt(15)/10,    0,  sqrt(3)/20, -sqrt(15)/20, -sqrt(3)/20, G41],\n",
       "[ -sqrt(5)/10,    0,        1/20,  -sqrt(5)/20,        9/20, G42],\n",
       "[-sqrt(15)/10,    0,  sqrt(3)/20, -sqrt(15)/20, -sqrt(3)/20, G43],\n",
       "[ sqrt(30)/10,    0, -sqrt(6)/20,  sqrt(30)/20,  sqrt(6)/20, G44],\n",
       "[  sqrt(5)/10, -1/8,       -1/10,            0,        9/40, G45],\n",
       "[ -sqrt(5)/10,  1/8,        1/10,            0,       -9/40, G46],\n",
       "[  -sqrt(5)/5,  1/8,         1/5,            0,       27/40, G47],\n",
       "[  -sqrt(5)/5, -1/8,         1/5,            0,       -3/40, G48],\n",
       "[   sqrt(5)/5,  1/8,        -1/5,            0,        3/40, G49],\n",
       "[  -sqrt(5)/5, -1/8,         1/5,            0,       -3/40, G50],\n",
       "[ -sqrt(5)/10,  1/8,        1/10,            0,       -9/40, G51],\n",
       "[  sqrt(5)/10, -1/8,       -1/10,            0,        9/40, G52]])"
      ]
     },
     "execution_count": 41,
     "metadata": {},
     "output_type": "execute_result"
    }
   ],
   "source": [
    "a1 = []\n",
    "\n",
    "for k in range(len(Gmatrix[:,0])):\n",
    "    if Gmatrix[k,0] != 0:\n",
    "        #print(Gmatrix[k,0:5])\n",
    "        a1.append(Gmatrix[k,:])\n",
    "        \n",
    "a1 = Matrix(a1)\n",
    "a1"
   ]
  },
  {
   "cell_type": "code",
   "execution_count": 73,
   "metadata": {},
   "outputs": [
    {
     "name": "stdout",
     "output_type": "stream",
     "text": [
      "Linear Dependents\n",
      "G  0  / G 0 = 1\n",
      "G  3  / G 0 = 1\n",
      "G  6  / G 0 = 1\n",
      "G  9  / G 0 = 1\n",
      "G  1  / G 1 = 1\n",
      "G  2  / G 1 = -sqrt(2)/2\n",
      "G  4  / G 1 = -sqrt(2)/2\n",
      "G  5  / G 1 = 1\n",
      "G  7  / G 1 = sqrt(2)/2\n",
      "G  8  / G 1 = -1\n",
      "G  10  / G 1 = -1\n",
      "G  11  / G 1 = sqrt(2)/2\n",
      "G  1  / G 2 = -sqrt(2)\n",
      "G  2  / G 2 = 1\n",
      "G  4  / G 2 = 1\n",
      "G  5  / G 2 = -sqrt(2)\n",
      "G  7  / G 2 = -1\n",
      "G  8  / G 2 = sqrt(2)\n",
      "G  10  / G 2 = sqrt(2)\n",
      "G  11  / G 2 = -1\n",
      "G  0  / G 3 = 1\n",
      "G  3  / G 3 = 1\n",
      "G  6  / G 3 = 1\n",
      "G  9  / G 3 = 1\n",
      "G  1  / G 4 = -sqrt(2)\n",
      "G  2  / G 4 = 1\n",
      "G  4  / G 4 = 1\n",
      "G  5  / G 4 = -sqrt(2)\n",
      "G  7  / G 4 = -1\n",
      "G  8  / G 4 = sqrt(2)\n",
      "G  10  / G 4 = sqrt(2)\n",
      "G  11  / G 4 = -1\n",
      "G  1  / G 5 = 1\n",
      "G  2  / G 5 = -sqrt(2)/2\n",
      "G  4  / G 5 = -sqrt(2)/2\n",
      "G  5  / G 5 = 1\n",
      "G  7  / G 5 = sqrt(2)/2\n",
      "G  8  / G 5 = -1\n",
      "G  10  / G 5 = -1\n",
      "G  11  / G 5 = sqrt(2)/2\n",
      "G  0  / G 6 = 1\n",
      "G  3  / G 6 = 1\n",
      "G  6  / G 6 = 1\n",
      "G  9  / G 6 = 1\n",
      "G  1  / G 7 = sqrt(2)\n",
      "G  2  / G 7 = -1\n",
      "G  4  / G 7 = -1\n",
      "G  5  / G 7 = sqrt(2)\n",
      "G  7  / G 7 = 1\n",
      "G  8  / G 7 = -sqrt(2)\n",
      "G  10  / G 7 = -sqrt(2)\n",
      "G  11  / G 7 = 1\n",
      "G  1  / G 8 = -1\n",
      "G  2  / G 8 = sqrt(2)/2\n",
      "G  4  / G 8 = sqrt(2)/2\n",
      "G  5  / G 8 = -1\n",
      "G  7  / G 8 = -sqrt(2)/2\n",
      "G  8  / G 8 = 1\n",
      "G  10  / G 8 = 1\n",
      "G  11  / G 8 = -sqrt(2)/2\n",
      "G  0  / G 9 = 1\n",
      "G  3  / G 9 = 1\n",
      "G  6  / G 9 = 1\n",
      "G  9  / G 9 = 1\n",
      "G  1  / G 10 = -1\n",
      "G  2  / G 10 = sqrt(2)/2\n",
      "G  4  / G 10 = sqrt(2)/2\n",
      "G  5  / G 10 = -1\n",
      "G  7  / G 10 = -sqrt(2)/2\n",
      "G  8  / G 10 = 1\n",
      "G  10  / G 10 = 1\n",
      "G  11  / G 10 = -sqrt(2)/2\n",
      "G  1  / G 11 = sqrt(2)\n",
      "G  2  / G 11 = -1\n",
      "G  4  / G 11 = -1\n",
      "G  5  / G 11 = sqrt(2)\n",
      "G  7  / G 11 = 1\n",
      "G  8  / G 11 = -sqrt(2)\n",
      "G  10  / G 11 = -sqrt(2)\n",
      "G  11  / G 11 = 1\n",
      "G  12  / G 12 = 1\n",
      "G  15  / G 12 = 1\n",
      "G  16  / G 12 = sqrt(2)/2\n",
      "G  17  / G 12 = sqrt(2)/2\n",
      "G  20  / G 12 = sqrt(2)/2\n",
      "G  21  / G 12 = sqrt(2)/2\n",
      "G  22  / G 12 = 1\n",
      "G  25  / G 12 = 1\n",
      "G  13  / G 13 = 1\n",
      "G  14  / G 13 = 1\n",
      "G  18  / G 13 = 1\n",
      "G  19  / G 13 = 1\n",
      "G  23  / G 13 = 1\n",
      "G  24  / G 13 = 1\n",
      "G  13  / G 14 = 1\n",
      "G  14  / G 14 = 1\n",
      "G  18  / G 14 = 1\n",
      "G  19  / G 14 = 1\n",
      "G  23  / G 14 = 1\n",
      "G  24  / G 14 = 1\n",
      "G  12  / G 15 = 1\n",
      "G  15  / G 15 = 1\n",
      "G  16  / G 15 = sqrt(2)/2\n",
      "G  17  / G 15 = sqrt(2)/2\n",
      "G  20  / G 15 = sqrt(2)/2\n",
      "G  21  / G 15 = sqrt(2)/2\n",
      "G  22  / G 15 = 1\n",
      "G  25  / G 15 = 1\n",
      "G  12  / G 16 = sqrt(2)\n",
      "G  15  / G 16 = sqrt(2)\n",
      "G  16  / G 16 = 1\n",
      "G  17  / G 16 = 1\n",
      "G  20  / G 16 = 1\n",
      "G  21  / G 16 = 1\n",
      "G  22  / G 16 = sqrt(2)\n",
      "G  25  / G 16 = sqrt(2)\n",
      "G  12  / G 17 = sqrt(2)\n",
      "G  15  / G 17 = sqrt(2)\n",
      "G  16  / G 17 = 1\n",
      "G  17  / G 17 = 1\n",
      "G  20  / G 17 = 1\n",
      "G  21  / G 17 = 1\n",
      "G  22  / G 17 = sqrt(2)\n",
      "G  25  / G 17 = sqrt(2)\n",
      "G  13  / G 18 = 1\n",
      "G  14  / G 18 = 1\n",
      "G  18  / G 18 = 1\n",
      "G  19  / G 18 = 1\n",
      "G  23  / G 18 = 1\n",
      "G  24  / G 18 = 1\n",
      "G  13  / G 19 = 1\n",
      "G  14  / G 19 = 1\n",
      "G  18  / G 19 = 1\n",
      "G  19  / G 19 = 1\n",
      "G  23  / G 19 = 1\n",
      "G  24  / G 19 = 1\n",
      "G  12  / G 20 = sqrt(2)\n",
      "G  15  / G 20 = sqrt(2)\n",
      "G  16  / G 20 = 1\n",
      "G  17  / G 20 = 1\n",
      "G  20  / G 20 = 1\n",
      "G  21  / G 20 = 1\n",
      "G  22  / G 20 = sqrt(2)\n",
      "G  25  / G 20 = sqrt(2)\n",
      "G  12  / G 21 = sqrt(2)\n",
      "G  15  / G 21 = sqrt(2)\n",
      "G  16  / G 21 = 1\n",
      "G  17  / G 21 = 1\n",
      "G  20  / G 21 = 1\n",
      "G  21  / G 21 = 1\n",
      "G  22  / G 21 = sqrt(2)\n",
      "G  25  / G 21 = sqrt(2)\n",
      "G  12  / G 22 = 1\n",
      "G  15  / G 22 = 1\n",
      "G  16  / G 22 = sqrt(2)/2\n",
      "G  17  / G 22 = sqrt(2)/2\n",
      "G  20  / G 22 = sqrt(2)/2\n",
      "G  21  / G 22 = sqrt(2)/2\n",
      "G  22  / G 22 = 1\n",
      "G  25  / G 22 = 1\n",
      "G  13  / G 23 = 1\n",
      "G  14  / G 23 = 1\n",
      "G  18  / G 23 = 1\n",
      "G  19  / G 23 = 1\n",
      "G  23  / G 23 = 1\n",
      "G  24  / G 23 = 1\n",
      "G  13  / G 24 = 1\n",
      "G  14  / G 24 = 1\n",
      "G  18  / G 24 = 1\n",
      "G  19  / G 24 = 1\n",
      "G  23  / G 24 = 1\n",
      "G  24  / G 24 = 1\n",
      "G  12  / G 25 = 1\n",
      "G  15  / G 25 = 1\n",
      "G  16  / G 25 = sqrt(2)/2\n",
      "G  17  / G 25 = sqrt(2)/2\n",
      "G  20  / G 25 = sqrt(2)/2\n",
      "G  21  / G 25 = sqrt(2)/2\n",
      "G  22  / G 25 = 1\n",
      "G  25  / G 25 = 1\n",
      "G  26  / G 26 = 1\n",
      "G  29  / G 26 = 1\n",
      "G  32  / G 26 = 1\n",
      "G  35  / G 26 = 1\n",
      "G  27  / G 27 = 1\n",
      "G  28  / G 27 = -sqrt(2)\n",
      "G  30  / G 27 = -sqrt(2)\n",
      "G  31  / G 27 = 1\n",
      "G  33  / G 27 = sqrt(2)\n",
      "G  34  / G 27 = -1\n",
      "G  36  / G 27 = -1\n",
      "G  37  / G 27 = sqrt(2)\n",
      "G  27  / G 28 = -sqrt(2)/2\n",
      "G  28  / G 28 = 1\n",
      "G  30  / G 28 = 1\n",
      "G  31  / G 28 = -sqrt(2)/2\n",
      "G  33  / G 28 = -1\n",
      "G  34  / G 28 = sqrt(2)/2\n",
      "G  36  / G 28 = sqrt(2)/2\n",
      "G  37  / G 28 = -1\n",
      "G  26  / G 29 = 1\n",
      "G  29  / G 29 = 1\n",
      "G  32  / G 29 = 1\n",
      "G  35  / G 29 = 1\n",
      "G  27  / G 30 = -sqrt(2)/2\n",
      "G  28  / G 30 = 1\n",
      "G  30  / G 30 = 1\n",
      "G  31  / G 30 = -sqrt(2)/2\n",
      "G  33  / G 30 = -1\n",
      "G  34  / G 30 = sqrt(2)/2\n",
      "G  36  / G 30 = sqrt(2)/2\n",
      "G  37  / G 30 = -1\n",
      "G  27  / G 31 = 1\n",
      "G  28  / G 31 = -sqrt(2)\n",
      "G  30  / G 31 = -sqrt(2)\n",
      "G  31  / G 31 = 1\n",
      "G  33  / G 31 = sqrt(2)\n",
      "G  34  / G 31 = -1\n",
      "G  36  / G 31 = -1\n",
      "G  37  / G 31 = sqrt(2)\n",
      "G  26  / G 32 = 1\n",
      "G  29  / G 32 = 1\n",
      "G  32  / G 32 = 1\n",
      "G  35  / G 32 = 1\n",
      "G  27  / G 33 = sqrt(2)/2\n",
      "G  28  / G 33 = -1\n",
      "G  30  / G 33 = -1\n",
      "G  31  / G 33 = sqrt(2)/2\n",
      "G  33  / G 33 = 1\n",
      "G  34  / G 33 = -sqrt(2)/2\n",
      "G  36  / G 33 = -sqrt(2)/2\n",
      "G  37  / G 33 = 1\n",
      "G  27  / G 34 = -1\n",
      "G  28  / G 34 = sqrt(2)\n",
      "G  30  / G 34 = sqrt(2)\n",
      "G  31  / G 34 = -1\n",
      "G  33  / G 34 = -sqrt(2)\n",
      "G  34  / G 34 = 1\n",
      "G  36  / G 34 = 1\n",
      "G  37  / G 34 = -sqrt(2)\n",
      "G  26  / G 35 = 1\n",
      "G  29  / G 35 = 1\n",
      "G  32  / G 35 = 1\n",
      "G  35  / G 35 = 1\n",
      "G  27  / G 36 = -1\n",
      "G  28  / G 36 = sqrt(2)\n",
      "G  30  / G 36 = sqrt(2)\n",
      "G  31  / G 36 = -1\n",
      "G  33  / G 36 = -sqrt(2)\n",
      "G  34  / G 36 = 1\n",
      "G  36  / G 36 = 1\n",
      "G  37  / G 36 = -sqrt(2)\n",
      "G  27  / G 37 = sqrt(2)/2\n",
      "G  28  / G 37 = -1\n",
      "G  30  / G 37 = -1\n",
      "G  31  / G 37 = sqrt(2)/2\n",
      "G  33  / G 37 = 1\n",
      "G  34  / G 37 = -sqrt(2)/2\n",
      "G  36  / G 37 = -sqrt(2)/2\n",
      "G  37  / G 37 = 1\n",
      "G  38  / G 38 = 1\n",
      "G  39  / G 38 = -1\n",
      "G  44  / G 38 = -1\n",
      "G  45  / G 38 = 1\n",
      "G  38  / G 39 = -1\n",
      "G  39  / G 39 = 1\n",
      "G  44  / G 39 = 1\n",
      "G  45  / G 39 = -1\n",
      "G  40  / G 40 = 1\n",
      "G  41  / G 41 = 1\n",
      "G  42  / G 41 = -1\n",
      "G  43  / G 41 = 1\n",
      "G  41  / G 42 = -1\n",
      "G  42  / G 42 = 1\n",
      "G  43  / G 42 = -1\n",
      "G  41  / G 43 = 1\n",
      "G  42  / G 43 = -1\n",
      "G  43  / G 43 = 1\n",
      "G  38  / G 44 = -1\n",
      "G  39  / G 44 = 1\n",
      "G  44  / G 44 = 1\n",
      "G  45  / G 44 = -1\n",
      "G  38  / G 45 = 1\n",
      "G  39  / G 45 = -1\n",
      "G  44  / G 45 = -1\n",
      "G  45  / G 45 = 1\n"
     ]
    }
   ],
   "source": [
    "print(\"Linear Dependents\")\n",
    "for i in range(len(a1[:,0])):\n",
    "    for j in range(len(a1[:,0])):\n",
    "        if Matrix([a1[i,0:5],a1[j,0:5]]).echelon_form().rank() == 1:\n",
    "            print(\"G \",j,\" / G\",i,\"=\",a1[j,0]/a1[i,0])"
   ]
  },
  {
   "cell_type": "code",
   "execution_count": 70,
   "metadata": {},
   "outputs": [
    {
     "data": {
      "text/plain": [
       "2"
      ]
     },
     "execution_count": 70,
     "metadata": {},
     "output_type": "execute_result"
    }
   ],
   "source": [
    "i=34\n",
    "j=42\n",
    "Matrix([a1[i,0:5],a1[j,0:5]]).echelon_form().rank()\n",
    "#            print(\"G \",j,\" / G\",i,\"=\",a1[j,0]/a1[i,0])"
   ]
  },
  {
   "cell_type": "code",
   "execution_count": 43,
   "metadata": {},
   "outputs": [
    {
     "data": {
      "text/plain": [
       "array([ 1,  2,  0,  0,  0,  0,  0,  0,  0,  0,  0,  0, 13, 14,  0,  0,  0,\n",
       "        0,  0,  0,  0,  0,  0,  0,  0,  0, 27, 28,  0,  0,  0,  0,  0,  0,\n",
       "        0,  0,  0,  0, 39,  0, 41, 42,  0,  0,  0,  0])"
      ]
     },
     "execution_count": 43,
     "metadata": {},
     "output_type": "execute_result"
    }
   ],
   "source": [
    "objs=[]\n",
    "for i in range(len(a1[:,0])):\n",
    "    indeps = np.array([], dtype=np.int16)\n",
    "    for j in range(1,len(a1[:,0])):\n",
    "        if Matrix([a1[i,0:5],a1[j,0:5]]).echelon_form().rank() == 1:\n",
    "            indeps=np.append(indeps, 0)\n",
    "        else:\n",
    "            indeps=np.append(indeps, 1)\n",
    "    objs.append(indeps)\n",
    "indep=np.arange(1,len(objs)+1)\n",
    "for i in range(len(objs)-1):\n",
    "    indep[i+1:]=indep[i+1:]*objs[i][i:]\n",
    "indep"
   ]
  },
  {
   "cell_type": "code",
   "execution_count": 44,
   "metadata": {},
   "outputs": [
    {
     "data": {
      "text/plain": [
       "array([ 0,  1, 12, 13, 26, 27, 38, 40, 41])"
      ]
     },
     "execution_count": 44,
     "metadata": {},
     "output_type": "execute_result"
    }
   ],
   "source": [
    "b1=np.trim_zeros(np.unique(a))-1\n",
    "b1"
   ]
  },
  {
   "cell_type": "code",
   "execution_count": 45,
   "metadata": {},
   "outputs": [
    {
     "data": {
      "text/latex": [
       "$\\displaystyle \\left[\\begin{matrix}- \\frac{\\sqrt{5}}{10} & 0 & \\frac{1}{20} & \\frac{\\sqrt{5}}{20} & \\frac{9}{20}\\\\\\frac{\\sqrt{30}}{10} & 0 & - \\frac{\\sqrt{6}}{20} & - \\frac{\\sqrt{30}}{20} & \\frac{\\sqrt{6}}{20}\\\\- \\frac{\\sqrt{30}}{10} & 0 & - \\frac{\\sqrt{6}}{10} & 0 & \\frac{\\sqrt{6}}{10}\\\\\\frac{\\sqrt{5}}{5} & 0 & \\frac{1}{5} & 0 & \\frac{3}{10}\\\\- \\frac{\\sqrt{5}}{10} & 0 & \\frac{1}{20} & - \\frac{\\sqrt{5}}{20} & \\frac{9}{20}\\\\\\frac{\\sqrt{15}}{10} & 0 & - \\frac{\\sqrt{3}}{20} & \\frac{\\sqrt{15}}{20} & \\frac{\\sqrt{3}}{20}\\\\\\frac{\\sqrt{5}}{10} & - \\frac{1}{8} & - \\frac{1}{10} & 0 & \\frac{9}{40}\\\\- \\frac{\\sqrt{5}}{5} & \\frac{1}{8} & \\frac{1}{5} & 0 & \\frac{27}{40}\\\\- \\frac{\\sqrt{5}}{5} & - \\frac{1}{8} & \\frac{1}{5} & 0 & - \\frac{3}{40}\\end{matrix}\\right]$"
      ],
      "text/plain": [
       "Matrix([\n",
       "[ -sqrt(5)/10,    0,        1/20,   sqrt(5)/20,       9/20],\n",
       "[ sqrt(30)/10,    0, -sqrt(6)/20, -sqrt(30)/20, sqrt(6)/20],\n",
       "[-sqrt(30)/10,    0, -sqrt(6)/10,            0, sqrt(6)/10],\n",
       "[   sqrt(5)/5,    0,         1/5,            0,       3/10],\n",
       "[ -sqrt(5)/10,    0,        1/20,  -sqrt(5)/20,       9/20],\n",
       "[ sqrt(15)/10,    0, -sqrt(3)/20,  sqrt(15)/20, sqrt(3)/20],\n",
       "[  sqrt(5)/10, -1/8,       -1/10,            0,       9/40],\n",
       "[  -sqrt(5)/5,  1/8,         1/5,            0,      27/40],\n",
       "[  -sqrt(5)/5, -1/8,         1/5,            0,      -3/40]])"
      ]
     },
     "execution_count": 45,
     "metadata": {},
     "output_type": "execute_result"
    }
   ],
   "source": [
    "SRM=Matrix([])\n",
    "for i in range (len(b1)):\n",
    "    SRM = SRM.row_insert(i,a1[b1[i],0:5])\n",
    "SRM"
   ]
  },
  {
   "cell_type": "code",
   "execution_count": 46,
   "metadata": {},
   "outputs": [
    {
     "data": {
      "text/latex": [
       "$\\displaystyle \\left[\\begin{matrix}G_{0}\\\\G_{1}\\\\G_{12}\\\\G_{13}\\\\G_{33}\\\\G_{34}\\\\G_{45}\\\\G_{47}\\\\G_{48}\\end{matrix}\\right]$"
      ],
      "text/plain": [
       "Matrix([\n",
       "[ G0],\n",
       "[ G1],\n",
       "[G12],\n",
       "[G13],\n",
       "[G33],\n",
       "[G34],\n",
       "[G45],\n",
       "[G47],\n",
       "[G48]])"
      ]
     },
     "execution_count": 46,
     "metadata": {},
     "output_type": "execute_result"
    }
   ],
   "source": [
    "col_G1=Matrix([])\n",
    "for i in range (len(b)):\n",
    "    col_G1 = col_G1.row_insert(i,a1[b1[i],5:6])\n",
    "col_G1"
   ]
  },
  {
   "cell_type": "code",
   "execution_count": 47,
   "metadata": {},
   "outputs": [
    {
     "data": {
      "text/latex": [
       "$\\displaystyle \\left[\\begin{matrix}- \\frac{\\sqrt{5}}{10} & 0 & \\frac{1}{20} & \\frac{\\sqrt{5}}{20} & \\frac{9}{20}\\\\0 & - \\frac{1}{8} & - \\frac{1}{20} & \\frac{\\sqrt{5}}{20} & \\frac{27}{40}\\\\0 & 0 & - \\frac{3 \\sqrt{6}}{20} & - \\frac{\\sqrt{30}}{20} & - \\frac{7 \\sqrt{6}}{20}\\\\0 & 0 & 0 & - \\frac{\\sqrt{5}}{10} & 0\\\\0 & 0 & 0 & 0 & \\frac{1}{2}\\\\0 & 0 & 0 & 0 & 0\\\\0 & 0 & 0 & 0 & 0\\\\0 & 0 & 0 & 0 & 0\\\\0 & 0 & 0 & 0 & 0\\end{matrix}\\right]$"
      ],
      "text/plain": [
       "Matrix([\n",
       "[-sqrt(5)/10,    0,          1/20,   sqrt(5)/20,          9/20],\n",
       "[          0, -1/8,         -1/20,   sqrt(5)/20,         27/40],\n",
       "[          0,    0, -3*sqrt(6)/20, -sqrt(30)/20, -7*sqrt(6)/20],\n",
       "[          0,    0,             0,  -sqrt(5)/10,             0],\n",
       "[          0,    0,             0,            0,           1/2],\n",
       "[          0,    0,             0,            0,             0],\n",
       "[          0,    0,             0,            0,             0],\n",
       "[          0,    0,             0,            0,             0],\n",
       "[          0,    0,             0,            0,             0]])"
      ]
     },
     "execution_count": 47,
     "metadata": {},
     "output_type": "execute_result"
    }
   ],
   "source": [
    "A=SRM\n",
    "b=col_G1\n",
    "L, U, _ = A.LUdecomposition()\n",
    "U"
   ]
  },
  {
   "cell_type": "code",
   "execution_count": 48,
   "metadata": {},
   "outputs": [
    {
     "data": {
      "text/latex": [
       "$\\displaystyle \\left[\\begin{matrix}1 & 0 & 0 & 0 & 0 & 0 & 0 & 0 & 0\\\\-1 & 1 & 0 & 0 & 0 & 0 & 0 & 0 & 0\\\\\\sqrt{6} & 0 & 1 & 0 & 0 & 0 & 0 & 0 & 0\\\\1 & 0 & 0 & 1 & 0 & 0 & 0 & 0 & 0\\\\-2 & 0 & - \\frac{\\sqrt{6}}{3} & 0 & 1 & 0 & 0 & 0 & 0\\\\- \\sqrt{3} & 0 & 0 & - \\sqrt{3} & \\sqrt{3} & 1 & 0 & 0 & 0\\\\- \\sqrt{6} & 0 & 0 & 0 & \\sqrt{6} & 0 & 1 & 0 & 0\\\\2 & -1 & - \\frac{\\sqrt{6}}{18} & \\frac{2}{3} & \\frac{2}{3} & 0 & 0 & 1 & 0\\\\2 & 1 & - \\frac{\\sqrt{6}}{6} & 2 & -4 & 0 & 0 & 0 & 1\\end{matrix}\\right]$"
      ],
      "text/plain": [
       "Matrix([\n",
       "[       1,  0,           0,        0,       0, 0, 0, 0, 0],\n",
       "[      -1,  1,           0,        0,       0, 0, 0, 0, 0],\n",
       "[ sqrt(6),  0,           1,        0,       0, 0, 0, 0, 0],\n",
       "[       1,  0,           0,        1,       0, 0, 0, 0, 0],\n",
       "[      -2,  0,  -sqrt(6)/3,        0,       1, 0, 0, 0, 0],\n",
       "[-sqrt(3),  0,           0, -sqrt(3), sqrt(3), 1, 0, 0, 0],\n",
       "[-sqrt(6),  0,           0,        0, sqrt(6), 0, 1, 0, 0],\n",
       "[       2, -1, -sqrt(6)/18,      2/3,     2/3, 0, 0, 1, 0],\n",
       "[       2,  1,  -sqrt(6)/6,        2,      -4, 0, 0, 0, 1]])"
      ]
     },
     "execution_count": 48,
     "metadata": {},
     "output_type": "execute_result"
    }
   ],
   "source": [
    "L"
   ]
  },
  {
   "cell_type": "code",
   "execution_count": 49,
   "metadata": {},
   "outputs": [
    {
     "data": {
      "text/latex": [
       "$\\displaystyle \\left[\\begin{matrix}G_{0}\\\\G_{0} + G_{1}\\\\- \\sqrt{6} G_{0} + G_{12}\\\\- G_{0} + G_{13}\\\\\\frac{\\sqrt{6} G_{12}}{3} + G_{33}\\\\- \\sqrt{2} G_{12} + \\sqrt{3} G_{13} - \\sqrt{3} G_{33} + G_{34}\\\\\\sqrt{6} G_{0} - 2 G_{12} - \\sqrt{6} G_{33} + G_{45}\\\\- \\frac{2 G_{0}}{3} + G_{1} - \\frac{\\sqrt{6} G_{12}}{6} - \\frac{2 G_{13}}{3} - \\frac{2 G_{33}}{3} + G_{47}\\\\- 2 G_{0} - G_{1} + \\frac{3 \\sqrt{6} G_{12}}{2} - 2 G_{13} + 4 G_{33} + G_{48}\\end{matrix}\\right]$"
      ],
      "text/plain": [
       "Matrix([\n",
       "[                                                    G0],\n",
       "[                                               G0 + G1],\n",
       "[                                     -sqrt(6)*G0 + G12],\n",
       "[                                             -G0 + G13],\n",
       "[                                   sqrt(6)*G12/3 + G33],\n",
       "[        -sqrt(2)*G12 + sqrt(3)*G13 - sqrt(3)*G33 + G34],\n",
       "[                sqrt(6)*G0 - 2*G12 - sqrt(6)*G33 + G45],\n",
       "[-2*G0/3 + G1 - sqrt(6)*G12/6 - 2*G13/3 - 2*G33/3 + G47],\n",
       "[    -2*G0 - G1 + 3*sqrt(6)*G12/2 - 2*G13 + 4*G33 + G48]])"
      ]
     },
     "execution_count": 49,
     "metadata": {},
     "output_type": "execute_result"
    }
   ],
   "source": [
    "L.inv()*col_G1"
   ]
  },
  {
   "cell_type": "code",
   "execution_count": null,
   "metadata": {},
   "outputs": [],
   "source": []
  }
 ],
 "metadata": {
  "kernelspec": {
   "display_name": "Python 3",
   "language": "python",
   "name": "python3"
  },
  "language_info": {
   "codemirror_mode": {
    "name": "ipython",
    "version": 3
   },
   "file_extension": ".py",
   "mimetype": "text/x-python",
   "name": "python",
   "nbconvert_exporter": "python",
   "pygments_lexer": "ipython3",
   "version": "3.8.5"
  }
 },
 "nbformat": 4,
 "nbformat_minor": 4
}
