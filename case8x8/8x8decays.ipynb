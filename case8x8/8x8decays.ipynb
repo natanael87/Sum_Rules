{
 "cells": [
  {
   "cell_type": "markdown",
   "metadata": {},
   "source": [
    "#### Abreviaturas:\n",
    "- df: data frame\n",
    "- cg_coef: coeficientes de Clebsch Gordan para SU(3)\n",
    "- dtot: número de degeneraciones totales"
   ]
  },
  {
   "cell_type": "code",
   "execution_count": 1,
   "metadata": {},
   "outputs": [],
   "source": [
    "import pandas as pd\n",
    "import numpy as np\n",
    "import math"
   ]
  },
  {
   "cell_type": "code",
   "execution_count": 2,
   "metadata": {},
   "outputs": [],
   "source": [
    "# Se importa el archivo\n",
    "df = pd.read_csv('8x8comp.txt', skiprows=4, header=None)\n",
    "\n",
    "# Se agregan las cabeceras de las columnas\n",
    "df.columns = ['klm', 'k1l1m1', 'k2l2m2', 'cg_coef', 'multiplet', 'degeneracy', 'dtot']\n",
    "\n",
    "# Se eliminan las filas con valores NaN\n",
    "df = df.dropna()\n",
    "\n",
    "# Convierte las columnas \"degeneracy\" y \"dtot\" en tipo int\n",
    "df = df.astype({\"degeneracy\":int})\n",
    "df = df.astype({\"dtot\":int})\n",
    "\n",
    "# Retorna una lista con los multipletes existentes\n",
    "multiplets = df['multiplet'].value_counts().index.tolist() "
   ]
  },
  {
   "cell_type": "code",
   "execution_count": 3,
   "metadata": {},
   "outputs": [],
   "source": [
    "# Función para separar el df en multipletes\n",
    "def divide_df(multiplet_i, dataf, headerc):\n",
    "    df_multiplet = dataf[dataf[headerc] == multiplet_i]\n",
    "    return df_multiplet"
   ]
  },
  {
   "cell_type": "code",
   "execution_count": 4,
   "metadata": {},
   "outputs": [],
   "source": [
    "from sympy import *"
   ]
  },
  {
   "cell_type": "code",
   "execution_count": 5,
   "metadata": {},
   "outputs": [],
   "source": [
    "# Calcula el cgc para un caso específico dentro de un dfe previamente filtrado\n",
    "def cgc_md(initial1, initial2, final, ddf):\n",
    "    dff = ddf.query('k1l1m1 == @initial1').query('k2l2m2 == @initial2').query('klm == @final')\n",
    "    cgc_str=dff.loc[:,'cg_coef'].values[0]\n",
    "    cgc = parse_expr(cgc_str, evaluate=0)\n",
    "    return cgc\n",
    "\n",
    "# Verifica si el df filtrado es simétrico o antisimétrico\n",
    "def is_symmetric(sdf):\n",
    "    p1 = sdf['k1l1m1'].head(1).values[0]\n",
    "    p2 = sdf['k2l2m2'].head(1).values[0]\n",
    "    pf = sdf['klm'].head(1).values[0]\n",
    "    val1 = cgc_md(p1, p2, pf, sdf)\n",
    "    val2 = cgc_md(p2, p1, pf, sdf)\n",
    "    if val1 == val2:\n",
    "        return 'S'\n",
    "    else:\n",
    "        return 'A'"
   ]
  },
  {
   "cell_type": "code",
   "execution_count": 6,
   "metadata": {},
   "outputs": [
    {
     "data": {
      "text/html": [
       "<div>\n",
       "<style scoped>\n",
       "    .dataframe tbody tr th:only-of-type {\n",
       "        vertical-align: middle;\n",
       "    }\n",
       "\n",
       "    .dataframe tbody tr th {\n",
       "        vertical-align: top;\n",
       "    }\n",
       "\n",
       "    .dataframe thead th {\n",
       "        text-align: right;\n",
       "    }\n",
       "</style>\n",
       "<table border=\"1\" class=\"dataframe\">\n",
       "  <thead>\n",
       "    <tr style=\"text-align: right;\">\n",
       "      <th></th>\n",
       "      <th>multiplet</th>\n",
       "      <th>degeneracy</th>\n",
       "      <th>is_symm</th>\n",
       "    </tr>\n",
       "  </thead>\n",
       "  <tbody>\n",
       "    <tr>\n",
       "      <th>0</th>\n",
       "      <td>11</td>\n",
       "      <td>2</td>\n",
       "      <td>S</td>\n",
       "    </tr>\n",
       "    <tr>\n",
       "      <th>1</th>\n",
       "      <td>11</td>\n",
       "      <td>1</td>\n",
       "      <td>A</td>\n",
       "    </tr>\n",
       "    <tr>\n",
       "      <th>2</th>\n",
       "      <td>22</td>\n",
       "      <td>1</td>\n",
       "      <td>S</td>\n",
       "    </tr>\n",
       "    <tr>\n",
       "      <th>3</th>\n",
       "      <td>30</td>\n",
       "      <td>1</td>\n",
       "      <td>A</td>\n",
       "    </tr>\n",
       "    <tr>\n",
       "      <th>4</th>\n",
       "      <td>03</td>\n",
       "      <td>1</td>\n",
       "      <td>A</td>\n",
       "    </tr>\n",
       "    <tr>\n",
       "      <th>5</th>\n",
       "      <td>00</td>\n",
       "      <td>1</td>\n",
       "      <td>S</td>\n",
       "    </tr>\n",
       "  </tbody>\n",
       "</table>\n",
       "</div>"
      ],
      "text/plain": [
       "  multiplet  degeneracy is_symm\n",
       "0        11           2       S\n",
       "1        11           1       A\n",
       "2        22           1       S\n",
       "3        30           1       A\n",
       "4        03           1       A\n",
       "5        00           1       S"
      ]
     },
     "execution_count": 6,
     "metadata": {},
     "output_type": "execute_result"
    }
   ],
   "source": [
    "Symmetry = []\n",
    "Multiplets = []\n",
    "Degeneracy = []\n",
    "Index = []\n",
    "for i in range(len(multiplets)):\n",
    "    # Retorna un df del multiplete indicado en la función\n",
    "    m = divide_df(multiplets[i], df, 'multiplet')\n",
    "    \n",
    "    # Retorna una lista con las degeneraciones del multiplete m\n",
    "    degeneracy = m['degeneracy'].value_counts().index.tolist()\n",
    "    \n",
    "    if len(degeneracy)>1:\n",
    "        for j in range(len(degeneracy)):\n",
    "            Multiplets.append(multiplets[i])\n",
    "            \n",
    "            # Divide el multiplete en df por degeneraciones\n",
    "            d = divide_df(degeneracy[j], m, 'degeneracy')\n",
    "            \n",
    "            Index.append(d.index)\n",
    "            Symmetry.append(is_symmetric(d))\n",
    "            Degeneracy.append(degeneracy[j])\n",
    "    else:\n",
    "        Index.append(m.index)\n",
    "        Multiplets.append(multiplets[i])\n",
    "        Symmetry.append(is_symmetric(m))\n",
    "        Degeneracy.append(degeneracy[0])\n",
    "\n",
    "# Elabora un df para describir cada multiplete\n",
    "df_describe = pd.DataFrame()\n",
    "df_describe['multiplet'] = Multiplets\n",
    "df_describe['degeneracy'] = Degeneracy\n",
    "df_describe['is_symm'] = Symmetry\n",
    "df_describe"
   ]
  },
  {
   "cell_type": "markdown",
   "metadata": {},
   "source": [
    "Para extraser los valores de la columna del multiplete usar:\n",
    "~~~\n",
    "df_describe['multiplet'].values #array\n",
    "multiplets #lista\n",
    "~~~"
   ]
  },
  {
   "cell_type": "code",
   "execution_count": 7,
   "metadata": {},
   "outputs": [
    {
     "data": {
      "text/html": [
       "<div>\n",
       "<style scoped>\n",
       "    .dataframe tbody tr th:only-of-type {\n",
       "        vertical-align: middle;\n",
       "    }\n",
       "\n",
       "    .dataframe tbody tr th {\n",
       "        vertical-align: top;\n",
       "    }\n",
       "\n",
       "    .dataframe thead th {\n",
       "        text-align: right;\n",
       "    }\n",
       "</style>\n",
       "<table border=\"1\" class=\"dataframe\">\n",
       "  <thead>\n",
       "    <tr style=\"text-align: right;\">\n",
       "      <th></th>\n",
       "      <th>klm</th>\n",
       "      <th>k1l1m1</th>\n",
       "      <th>k2l2m2</th>\n",
       "      <th>cg_coef</th>\n",
       "      <th>multiplet</th>\n",
       "      <th>degeneracy</th>\n",
       "      <th>dtot</th>\n",
       "      <th>is_symm</th>\n",
       "    </tr>\n",
       "  </thead>\n",
       "  <tbody>\n",
       "    <tr>\n",
       "      <th>0</th>\n",
       "      <td>000</td>\n",
       "      <td>100</td>\n",
       "      <td>212</td>\n",
       "      <td>sqrt(1/8)</td>\n",
       "      <td>00</td>\n",
       "      <td>1</td>\n",
       "      <td>1</td>\n",
       "      <td>S</td>\n",
       "    </tr>\n",
       "    <tr>\n",
       "      <th>1</th>\n",
       "      <td>000</td>\n",
       "      <td>101</td>\n",
       "      <td>211</td>\n",
       "      <td>-sqrt(1/8)</td>\n",
       "      <td>00</td>\n",
       "      <td>1</td>\n",
       "      <td>1</td>\n",
       "      <td>S</td>\n",
       "    </tr>\n",
       "    <tr>\n",
       "      <th>2</th>\n",
       "      <td>000</td>\n",
       "      <td>111</td>\n",
       "      <td>111</td>\n",
       "      <td>-sqrt(1/8)</td>\n",
       "      <td>00</td>\n",
       "      <td>1</td>\n",
       "      <td>1</td>\n",
       "      <td>S</td>\n",
       "    </tr>\n",
       "    <tr>\n",
       "      <th>3</th>\n",
       "      <td>000</td>\n",
       "      <td>200</td>\n",
       "      <td>202</td>\n",
       "      <td>sqrt(1/8)</td>\n",
       "      <td>00</td>\n",
       "      <td>1</td>\n",
       "      <td>1</td>\n",
       "      <td>S</td>\n",
       "    </tr>\n",
       "    <tr>\n",
       "      <th>4</th>\n",
       "      <td>000</td>\n",
       "      <td>201</td>\n",
       "      <td>201</td>\n",
       "      <td>-sqrt(1/8)</td>\n",
       "      <td>00</td>\n",
       "      <td>1</td>\n",
       "      <td>1</td>\n",
       "      <td>S</td>\n",
       "    </tr>\n",
       "    <tr>\n",
       "      <th>...</th>\n",
       "      <td>...</td>\n",
       "      <td>...</td>\n",
       "      <td>...</td>\n",
       "      <td>...</td>\n",
       "      <td>...</td>\n",
       "      <td>...</td>\n",
       "      <td>...</td>\n",
       "      <td>...</td>\n",
       "    </tr>\n",
       "    <tr>\n",
       "      <th>303</th>\n",
       "      <td>301</td>\n",
       "      <td>211</td>\n",
       "      <td>201</td>\n",
       "      <td>-sqrt(1/3)</td>\n",
       "      <td>30</td>\n",
       "      <td>1</td>\n",
       "      <td>1</td>\n",
       "      <td>A</td>\n",
       "    </tr>\n",
       "    <tr>\n",
       "      <th>304</th>\n",
       "      <td>301</td>\n",
       "      <td>212</td>\n",
       "      <td>200</td>\n",
       "      <td>-sqrt(1/6)</td>\n",
       "      <td>30</td>\n",
       "      <td>1</td>\n",
       "      <td>1</td>\n",
       "      <td>A</td>\n",
       "    </tr>\n",
       "    <tr>\n",
       "      <th>305</th>\n",
       "      <td>302</td>\n",
       "      <td>211</td>\n",
       "      <td>202</td>\n",
       "      <td>-sqrt(1/6)</td>\n",
       "      <td>30</td>\n",
       "      <td>1</td>\n",
       "      <td>1</td>\n",
       "      <td>A</td>\n",
       "    </tr>\n",
       "    <tr>\n",
       "      <th>306</th>\n",
       "      <td>302</td>\n",
       "      <td>212</td>\n",
       "      <td>201</td>\n",
       "      <td>-sqrt(1/3)</td>\n",
       "      <td>30</td>\n",
       "      <td>1</td>\n",
       "      <td>1</td>\n",
       "      <td>A</td>\n",
       "    </tr>\n",
       "    <tr>\n",
       "      <th>307</th>\n",
       "      <td>303</td>\n",
       "      <td>212</td>\n",
       "      <td>202</td>\n",
       "      <td>-sqrt(1/2)</td>\n",
       "      <td>30</td>\n",
       "      <td>1</td>\n",
       "      <td>1</td>\n",
       "      <td>A</td>\n",
       "    </tr>\n",
       "  </tbody>\n",
       "</table>\n",
       "<p>302 rows × 8 columns</p>\n",
       "</div>"
      ],
      "text/plain": [
       "     klm k1l1m1 k2l2m2     cg_coef multiplet  degeneracy  dtot is_symm\n",
       "0    000    100    212   sqrt(1/8)        00           1     1       S\n",
       "1    000    101    211  -sqrt(1/8)        00           1     1       S\n",
       "2    000    111    111  -sqrt(1/8)        00           1     1       S\n",
       "3    000    200    202   sqrt(1/8)        00           1     1       S\n",
       "4    000    201    201  -sqrt(1/8)        00           1     1       S\n",
       "..   ...    ...    ...         ...       ...         ...   ...     ...\n",
       "303  301    211    201  -sqrt(1/3)        30           1     1       A\n",
       "304  301    212    200  -sqrt(1/6)        30           1     1       A\n",
       "305  302    211    202  -sqrt(1/6)        30           1     1       A\n",
       "306  302    212    201  -sqrt(1/3)        30           1     1       A\n",
       "307  303    212    202  -sqrt(1/2)        30           1     1       A\n",
       "\n",
       "[302 rows x 8 columns]"
      ]
     },
     "execution_count": 7,
     "metadata": {},
     "output_type": "execute_result"
    }
   ],
   "source": [
    "# Agrega una columna extra al df original\n",
    "extra =[]\n",
    "for i in range(df.shape[0]):\n",
    "    extra.append('x')\n",
    "df.loc[:,'is_symm']=extra\n",
    "# Asigna correctamente la característica si es simétrico o antisimétrico\n",
    "for i in range(len(Index)):\n",
    "    for j in Index[i]:\n",
    "        df.at[Index[i],'is_symm']=df_describe.loc[i, 'is_symm']\n",
    "df"
   ]
  },
  {
   "cell_type": "markdown",
   "metadata": {},
   "source": [
    "### Algoritmo para el cálculo de coeficientes\n",
    "\n",
    "#### Abrebiaciones\n",
    "- I Isoespín\n",
    "- Y Hipercarga\n",
    "- I3 Tercera componente de Isoespín"
   ]
  },
  {
   "cell_type": "code",
   "execution_count": 8,
   "metadata": {},
   "outputs": [],
   "source": [
    "# Transforma los números cuánticos de una particula de y, i, iz al tipo k, l, m\n",
    "def transform(particle):\n",
    "    # Separa una palabra por caracteres y luego convierte cada elemento a entero\n",
    "    p = int(list('11')[0])\n",
    "    q = int(list('11')[1])\n",
    "    \n",
    "    # Convierte a caracter lo que convirtio en entero\n",
    "    k = str(int((p+2*q)/3 + particle[0]/2 + particle[1]))\n",
    "    l = str(int((p+2*q)/3 + particle[0]/2 - particle[1]))\n",
    "    m = str(int((p+2*q)/3 + particle[0]/2 + particle[2]))\n",
    "    \n",
    "    # Une los caracteres klm en una sola cadena\n",
    "    klm = ''.join([k, l, m])\n",
    "    return klm\n",
    "\n",
    "# Transforma una lista de lista de numeros\n",
    "def transform_m(listm):\n",
    "    list_str = []\n",
    "    for i in range(len(listm)):\n",
    "        list_str.append(transform(listm[i]))\n",
    "    return list_str"
   ]
  },
  {
   "cell_type": "code",
   "execution_count": 9,
   "metadata": {},
   "outputs": [
    {
     "data": {
      "text/html": [
       "<div>\n",
       "<style scoped>\n",
       "    .dataframe tbody tr th:only-of-type {\n",
       "        vertical-align: middle;\n",
       "    }\n",
       "\n",
       "    .dataframe tbody tr th {\n",
       "        vertical-align: top;\n",
       "    }\n",
       "\n",
       "    .dataframe thead th {\n",
       "        text-align: right;\n",
       "    }\n",
       "</style>\n",
       "<table border=\"1\" class=\"dataframe\">\n",
       "  <thead>\n",
       "    <tr style=\"text-align: right;\">\n",
       "      <th></th>\n",
       "      <th>klm</th>\n",
       "      <th>k1l1m1</th>\n",
       "      <th>k2l2m2</th>\n",
       "      <th>cg_coef</th>\n",
       "      <th>multiplet</th>\n",
       "      <th>degeneracy</th>\n",
       "      <th>dtot</th>\n",
       "      <th>is_symm</th>\n",
       "    </tr>\n",
       "  </thead>\n",
       "  <tbody>\n",
       "    <tr>\n",
       "      <th>154</th>\n",
       "      <td>212</td>\n",
       "      <td>111</td>\n",
       "      <td>212</td>\n",
       "      <td>-sqrt(1/20)</td>\n",
       "      <td>11</td>\n",
       "      <td>2</td>\n",
       "      <td>2</td>\n",
       "      <td>S</td>\n",
       "    </tr>\n",
       "    <tr>\n",
       "      <th>157</th>\n",
       "      <td>212</td>\n",
       "      <td>201</td>\n",
       "      <td>212</td>\n",
       "      <td>sqrt(3/20)</td>\n",
       "      <td>11</td>\n",
       "      <td>2</td>\n",
       "      <td>2</td>\n",
       "      <td>S</td>\n",
       "    </tr>\n",
       "    <tr>\n",
       "      <th>158</th>\n",
       "      <td>212</td>\n",
       "      <td>202</td>\n",
       "      <td>211</td>\n",
       "      <td>-sqrt(3/10)</td>\n",
       "      <td>11</td>\n",
       "      <td>2</td>\n",
       "      <td>2</td>\n",
       "      <td>S</td>\n",
       "    </tr>\n",
       "    <tr>\n",
       "      <th>160</th>\n",
       "      <td>212</td>\n",
       "      <td>212</td>\n",
       "      <td>111</td>\n",
       "      <td>-sqrt(1/20)</td>\n",
       "      <td>11</td>\n",
       "      <td>2</td>\n",
       "      <td>2</td>\n",
       "      <td>S</td>\n",
       "    </tr>\n",
       "    <tr>\n",
       "      <th>163</th>\n",
       "      <td>212</td>\n",
       "      <td>211</td>\n",
       "      <td>202</td>\n",
       "      <td>-sqrt(3/10)</td>\n",
       "      <td>11</td>\n",
       "      <td>2</td>\n",
       "      <td>2</td>\n",
       "      <td>S</td>\n",
       "    </tr>\n",
       "    <tr>\n",
       "      <th>164</th>\n",
       "      <td>212</td>\n",
       "      <td>212</td>\n",
       "      <td>201</td>\n",
       "      <td>sqrt(3/20)</td>\n",
       "      <td>11</td>\n",
       "      <td>2</td>\n",
       "      <td>2</td>\n",
       "      <td>S</td>\n",
       "    </tr>\n",
       "  </tbody>\n",
       "</table>\n",
       "</div>"
      ],
      "text/plain": [
       "     klm k1l1m1 k2l2m2      cg_coef multiplet  degeneracy  dtot is_symm\n",
       "154  212    111    212  -sqrt(1/20)        11           2     2       S\n",
       "157  212    201    212   sqrt(3/20)        11           2     2       S\n",
       "158  212    202    211  -sqrt(3/10)        11           2     2       S\n",
       "160  212    212    111  -sqrt(1/20)        11           2     2       S\n",
       "163  212    211    202  -sqrt(3/10)        11           2     2       S\n",
       "164  212    212    201   sqrt(3/20)        11           2     2       S"
      ]
     },
     "execution_count": 9,
     "metadata": {},
     "output_type": "execute_result"
    }
   ],
   "source": [
    "df.loc[(df['multiplet']=='11')&(df['klm']=='212')&(df['is_symm']=='S')]"
   ]
  },
  {
   "cell_type": "code",
   "execution_count": 10,
   "metadata": {},
   "outputs": [
    {
     "data": {
      "text/html": [
       "<div>\n",
       "<style scoped>\n",
       "    .dataframe tbody tr th:only-of-type {\n",
       "        vertical-align: middle;\n",
       "    }\n",
       "\n",
       "    .dataframe tbody tr th {\n",
       "        vertical-align: top;\n",
       "    }\n",
       "\n",
       "    .dataframe thead th {\n",
       "        text-align: right;\n",
       "    }\n",
       "</style>\n",
       "<table border=\"1\" class=\"dataframe\">\n",
       "  <thead>\n",
       "    <tr style=\"text-align: right;\">\n",
       "      <th></th>\n",
       "      <th>klm</th>\n",
       "      <th>k1l1m1</th>\n",
       "      <th>k2l2m2</th>\n",
       "      <th>cg_coef</th>\n",
       "      <th>multiplet</th>\n",
       "      <th>degeneracy</th>\n",
       "      <th>dtot</th>\n",
       "      <th>is_symm</th>\n",
       "    </tr>\n",
       "  </thead>\n",
       "  <tbody>\n",
       "    <tr>\n",
       "      <th>176</th>\n",
       "      <td>211</td>\n",
       "      <td>111</td>\n",
       "      <td>100</td>\n",
       "      <td>sqrt(9/20)</td>\n",
       "      <td>22</td>\n",
       "      <td>1</td>\n",
       "      <td>1</td>\n",
       "      <td>S</td>\n",
       "    </tr>\n",
       "  </tbody>\n",
       "</table>\n",
       "</div>"
      ],
      "text/plain": [
       "     klm k1l1m1 k2l2m2     cg_coef multiplet  degeneracy  dtot is_symm\n",
       "176  211    111    100  sqrt(9/20)        22           1     1       S"
      ]
     },
     "execution_count": 10,
     "metadata": {},
     "output_type": "execute_result"
    }
   ],
   "source": [
    "df.loc[(df['klm']=='211')&(df['k1l1m1']=='111')&(df['k2l2m2']=='100')]"
   ]
  },
  {
   "cell_type": "code",
   "execution_count": 11,
   "metadata": {},
   "outputs": [
    {
     "data": {
      "text/html": [
       "<div>\n",
       "<style scoped>\n",
       "    .dataframe tbody tr th:only-of-type {\n",
       "        vertical-align: middle;\n",
       "    }\n",
       "\n",
       "    .dataframe tbody tr th {\n",
       "        vertical-align: top;\n",
       "    }\n",
       "\n",
       "    .dataframe thead th {\n",
       "        text-align: right;\n",
       "    }\n",
       "</style>\n",
       "<table border=\"1\" class=\"dataframe\">\n",
       "  <thead>\n",
       "    <tr style=\"text-align: right;\">\n",
       "      <th></th>\n",
       "      <th>klm</th>\n",
       "      <th>k1l1m1</th>\n",
       "      <th>k2l2m2</th>\n",
       "      <th>cg_coef</th>\n",
       "      <th>multiplet</th>\n",
       "      <th>degeneracy</th>\n",
       "      <th>dtot</th>\n",
       "      <th>is_symm</th>\n",
       "    </tr>\n",
       "  </thead>\n",
       "  <tbody>\n",
       "    <tr>\n",
       "      <th>154</th>\n",
       "      <td>212</td>\n",
       "      <td>111</td>\n",
       "      <td>212</td>\n",
       "      <td>-sqrt(1/20)</td>\n",
       "      <td>11</td>\n",
       "      <td>2</td>\n",
       "      <td>2</td>\n",
       "      <td>S</td>\n",
       "    </tr>\n",
       "    <tr>\n",
       "      <th>157</th>\n",
       "      <td>212</td>\n",
       "      <td>201</td>\n",
       "      <td>212</td>\n",
       "      <td>sqrt(3/20)</td>\n",
       "      <td>11</td>\n",
       "      <td>2</td>\n",
       "      <td>2</td>\n",
       "      <td>S</td>\n",
       "    </tr>\n",
       "    <tr>\n",
       "      <th>158</th>\n",
       "      <td>212</td>\n",
       "      <td>202</td>\n",
       "      <td>211</td>\n",
       "      <td>-sqrt(3/10)</td>\n",
       "      <td>11</td>\n",
       "      <td>2</td>\n",
       "      <td>2</td>\n",
       "      <td>S</td>\n",
       "    </tr>\n",
       "    <tr>\n",
       "      <th>160</th>\n",
       "      <td>212</td>\n",
       "      <td>212</td>\n",
       "      <td>111</td>\n",
       "      <td>-sqrt(1/20)</td>\n",
       "      <td>11</td>\n",
       "      <td>2</td>\n",
       "      <td>2</td>\n",
       "      <td>S</td>\n",
       "    </tr>\n",
       "    <tr>\n",
       "      <th>163</th>\n",
       "      <td>212</td>\n",
       "      <td>211</td>\n",
       "      <td>202</td>\n",
       "      <td>-sqrt(3/10)</td>\n",
       "      <td>11</td>\n",
       "      <td>2</td>\n",
       "      <td>2</td>\n",
       "      <td>S</td>\n",
       "    </tr>\n",
       "    <tr>\n",
       "      <th>164</th>\n",
       "      <td>212</td>\n",
       "      <td>212</td>\n",
       "      <td>201</td>\n",
       "      <td>sqrt(3/20)</td>\n",
       "      <td>11</td>\n",
       "      <td>2</td>\n",
       "      <td>2</td>\n",
       "      <td>S</td>\n",
       "    </tr>\n",
       "  </tbody>\n",
       "</table>\n",
       "</div>"
      ],
      "text/plain": [
       "     klm k1l1m1 k2l2m2      cg_coef multiplet  degeneracy  dtot is_symm\n",
       "154  212    111    212  -sqrt(1/20)        11           2     2       S\n",
       "157  212    201    212   sqrt(3/20)        11           2     2       S\n",
       "158  212    202    211  -sqrt(3/10)        11           2     2       S\n",
       "160  212    212    111  -sqrt(1/20)        11           2     2       S\n",
       "163  212    211    202  -sqrt(3/10)        11           2     2       S\n",
       "164  212    212    201   sqrt(3/20)        11           2     2       S"
      ]
     },
     "execution_count": 11,
     "metadata": {},
     "output_type": "execute_result"
    }
   ],
   "source": [
    "df.loc[(df['multiplet']=='11')&(df['klm']=='212')&(df['is_symm']=='S')]"
   ]
  },
  {
   "cell_type": "code",
   "execution_count": 12,
   "metadata": {},
   "outputs": [
    {
     "data": {
      "text/html": [
       "<div>\n",
       "<style scoped>\n",
       "    .dataframe tbody tr th:only-of-type {\n",
       "        vertical-align: middle;\n",
       "    }\n",
       "\n",
       "    .dataframe tbody tr th {\n",
       "        vertical-align: top;\n",
       "    }\n",
       "\n",
       "    .dataframe thead th {\n",
       "        text-align: right;\n",
       "    }\n",
       "</style>\n",
       "<table border=\"1\" class=\"dataframe\">\n",
       "  <thead>\n",
       "    <tr style=\"text-align: right;\">\n",
       "      <th></th>\n",
       "      <th>klm</th>\n",
       "      <th>k1l1m1</th>\n",
       "      <th>k2l2m2</th>\n",
       "      <th>cg_coef</th>\n",
       "      <th>multiplet</th>\n",
       "      <th>degeneracy</th>\n",
       "      <th>dtot</th>\n",
       "      <th>is_symm</th>\n",
       "    </tr>\n",
       "  </thead>\n",
       "  <tbody>\n",
       "    <tr>\n",
       "      <th>154</th>\n",
       "      <td>212</td>\n",
       "      <td>111</td>\n",
       "      <td>212</td>\n",
       "      <td>-sqrt(1/20)</td>\n",
       "      <td>11</td>\n",
       "      <td>2</td>\n",
       "      <td>2</td>\n",
       "      <td>S</td>\n",
       "    </tr>\n",
       "  </tbody>\n",
       "</table>\n",
       "</div>"
      ],
      "text/plain": [
       "     klm k1l1m1 k2l2m2      cg_coef multiplet  degeneracy  dtot is_symm\n",
       "154  212    111    212  -sqrt(1/20)        11           2     2       S"
      ]
     },
     "execution_count": 12,
     "metadata": {},
     "output_type": "execute_result"
    }
   ],
   "source": [
    "df.loc[(df['klm']=='212')&(df['k1l1m1']=='111')&(df['k2l2m2']=='212')&(df['is_symm']=='S')]"
   ]
  },
  {
   "cell_type": "markdown",
   "metadata": {},
   "source": [
    "## TO DO\n",
    "1. Empezar a formar la matriz de coeficientes de decaimiento con el algoritmo\n",
    "2. Dp_lambda_p = [cgc(klm, k1l1m1, k2l2m2, octete, S)]"
   ]
  },
  {
   "cell_type": "markdown",
   "metadata": {},
   "source": [
    "Otra forma de buscar un valor dentro de una columna de un df es:\n",
    "~~~\n",
    "df[df['multiplet'].str.contains('00')]\n",
    "~~~"
   ]
  },
  {
   "cell_type": "code",
   "execution_count": 13,
   "metadata": {},
   "outputs": [],
   "source": [
    "x=Symbol('x')\n",
    "d1 = [sqrt(2)*4, x**2/x, Rational(3,4), 'nombre_decaimiento']"
   ]
  },
  {
   "cell_type": "code",
   "execution_count": 14,
   "metadata": {},
   "outputs": [
    {
     "data": {
      "text/latex": [
       "$\\displaystyle \\left[\\begin{matrix}4 \\sqrt{2} & x & \\frac{3}{4}\\end{matrix}\\right]$"
      ],
      "text/plain": [
       "Matrix([[4*sqrt(2), x, 3/4]])"
      ]
     },
     "execution_count": 14,
     "metadata": {},
     "output_type": "execute_result"
    }
   ],
   "source": [
    "Matrix([d1[0:3]])"
   ]
  },
  {
   "cell_type": "code",
   "execution_count": 15,
   "metadata": {},
   "outputs": [],
   "source": [
    "e = Matrix([1,1])"
   ]
  },
  {
   "cell_type": "code",
   "execution_count": 18,
   "metadata": {},
   "outputs": [
    {
     "name": "stdout",
     "output_type": "stream",
     "text": [
      "dimension  8\n",
      "Imax  1\n",
      "Ymax  0\n",
      "Range  3\n"
     ]
    }
   ],
   "source": [
    "dimension = (1+e[0])*(1+e[1])*(2+sum(e))/2\n",
    "if e[0]<e[1]:\n",
    "    print('dimension ', dimension, '*')\n",
    "else:\n",
    "    print('dimension ', dimension)\n",
    "Imax = (e[0]+e[1])/2\n",
    "print('Imax ', Imax)\n",
    "Ymax = (e[0]-e[1])/3\n",
    "print('Ymax ', Ymax)\n",
    "Range = 2*Imax +1\n",
    "print('Range ', Range)"
   ]
  },
  {
   "cell_type": "code",
   "execution_count": 19,
   "metadata": {},
   "outputs": [],
   "source": [
    "# Retorna las degeneraciones de SU(2) dado un valor de I\n",
    "def dec_su2(nmax):\n",
    "    row = []\n",
    "    \n",
    "    rowImax = nmax\n",
    "    size_m = 2*nmax + 1\n",
    "    for i in range(size_m):\n",
    "        row.insert(0,nmax)\n",
    "        nmax = nmax -1\n",
    "    return row\n",
    "\n",
    "# Retorna el grupo de partículas pertenecientes al nivel solicitado\n",
    "def level_particles(level):\n",
    "    # Retorna la lista de la linea más larga en todo el multiplete\n",
    "    I3max_line = dec_su2(Imax) # es una lista\n",
    "\n",
    "    subIsospin3 = []\n",
    "    subIsospin = []\n",
    "    subHipercharge = []\n",
    "    \n",
    "    # Delimita los valores máximos y mínimos por nivel horizontal\n",
    "    a = level-1\n",
    "    b = len(I3max_line)-level + 1\n",
    "    subIsospin3.append(I3max_line[a:b])\n",
    "    Imax_line = I3max_line[b-1] # es un número\n",
    "    list_subI = []\n",
    "    list_subI.append(Imax_line)\n",
    "    list_subI = list_subI*(b-a)\n",
    "    subIsospin.append(list_subI)\n",
    "    subImax = I3max_line[-level]\n",
    "    list_subY=[]\n",
    "    list_subY.append(Ymax)\n",
    "    list_subY = list_subY*(b-a)\n",
    "    subHipercharge.append(list_subY)\n",
    "    \n",
    "    # Recorre sobre la línea vertical hacia abajo formando grupos de partículas\n",
    "    prow = []\n",
    "    Inew = subImax\n",
    "    Yrow1 = []\n",
    "    Ynew1 = Ymax\n",
    "    \n",
    "    for i in range(e[0]-level+1):\n",
    "        Inew = nsimplify(Inew -1/2)\n",
    "        prow.append(Inew)\n",
    "        Ynew1 = nsimplify(Ynew1 - 1)\n",
    "        Yrow1.append(Ynew1)\n",
    "    \n",
    "    for i in range(len(prow)):\n",
    "        subIsospin3.append(dec_su2(prow[i]))\n",
    "        \n",
    "        len_p = len(I3max_line)-i-1\n",
    "        list_subI = []\n",
    "        list_subI.append(prow[i])\n",
    "        list_subI = list_subI*len_p\n",
    "        subIsospin.append(list_subI)\n",
    "        \n",
    "        list_subY=[]\n",
    "        list_subY.append(Yrow1[i])\n",
    "        list_subY = list_subY*len_p\n",
    "        subHipercharge.append(list_subY)\n",
    "    \n",
    "    # Recorre sobre la línea vertical hacia arriba formando grupos de partículas\n",
    "    qrow = []\n",
    "    Inew2 = subImax\n",
    "    Yrow2 = []\n",
    "    Ynew2 = Ymax\n",
    "    for i in range(e[1]-level+1):\n",
    "        Inew2 = nsimplify(Inew2 -1/2)\n",
    "        qrow.insert(i,Inew2)\n",
    "        Ynew2 = nsimplify(Ynew2 + 1)\n",
    "        Yrow2.append(Ynew2)\n",
    "        \n",
    "    for i in range(len(qrow)):\n",
    "        \n",
    "        subIsospin3.insert(0,dec_su2(qrow[i]))\n",
    "        list_subI = []\n",
    "        list_subI.append(qrow[i])\n",
    "        len_q = len(I3max_line)-i-1\n",
    "        list_subI = list_subI*len_q\n",
    "        subIsospin.insert(0,list_subI)\n",
    "        \n",
    "        list_subY=[]\n",
    "        list_subY.append(Yrow2[i])\n",
    "        list_subY = list_subY*len_q\n",
    "        subHipercharge.insert(0, list_subY)\n",
    "    \n",
    "    #print(subIsospin) \n",
    "    #print(subHipercharge)\n",
    "        \n",
    "    return subHipercharge, subIsospin, subIsospin3\n",
    "\n",
    "# Retorna el número de partículas en el grupo del nivel solicitado\n",
    "def count_particles(levelp):\n",
    "    tot_particles = 0\n",
    "    for i in range(len(levelp)):\n",
    "        tot_particles = tot_particles + len(levelp[i])\n",
    "    return tot_particles"
   ]
  },
  {
   "cell_type": "code",
   "execution_count": 24,
   "metadata": {},
   "outputs": [
    {
     "data": {
      "text/plain": [
       "[[[-1/2, 1/2], [-1, 0, 1], [-1/2, 1/2]], [[0]]]"
      ]
     },
     "execution_count": 24,
     "metadata": {},
     "output_type": "execute_result"
    }
   ],
   "source": [
    "I3 = []\n",
    "I = []\n",
    "Y = []\n",
    "npart = 0\n",
    "for i in range(dimension):\n",
    "    level = i+1\n",
    "    subY, subI, subI3 = level_particles(level)\n",
    "    npart = npart + count_particles(subI3)\n",
    "    I3.append(subI3)\n",
    "    I.append(subI)\n",
    "    Y.append(subY)\n",
    "    \n",
    "    if npart == dimension:\n",
    "        break\n",
    "I3"
   ]
  },
  {
   "cell_type": "code",
   "execution_count": 25,
   "metadata": {},
   "outputs": [
    {
     "data": {
      "text/plain": [
       "[[[1/2, 1/2], [1, 1, 1], [1/2, 1/2]], [[0]]]"
      ]
     },
     "execution_count": 25,
     "metadata": {},
     "output_type": "execute_result"
    }
   ],
   "source": [
    "I"
   ]
  },
  {
   "cell_type": "code",
   "execution_count": 26,
   "metadata": {},
   "outputs": [
    {
     "data": {
      "text/plain": [
       "[[[1, 1], [0, 0, 0], [-1, -1]], [[0]]]"
      ]
     },
     "execution_count": 26,
     "metadata": {},
     "output_type": "execute_result"
    }
   ],
   "source": [
    "Y"
   ]
  },
  {
   "cell_type": "code",
   "execution_count": 30,
   "metadata": {},
   "outputs": [
    {
     "data": {
      "text/plain": [
       "(1, 1/2, -1/2)"
      ]
     },
     "execution_count": 30,
     "metadata": {},
     "output_type": "execute_result"
    }
   ],
   "source": [
    "Y[0][0][0], I[0][0][0], I3[0][0][0]"
   ]
  },
  {
   "cell_type": "code",
   "execution_count": 31,
   "metadata": {},
   "outputs": [
    {
     "data": {
      "text/plain": [
       "(1, 1/2, 1/2)"
      ]
     },
     "execution_count": 31,
     "metadata": {},
     "output_type": "execute_result"
    }
   ],
   "source": [
    "Y[0][0][0], I[0][0][0], I3[0][0][1]"
   ]
  },
  {
   "cell_type": "code",
   "execution_count": null,
   "metadata": {},
   "outputs": [],
   "source": []
  }
 ],
 "metadata": {
  "kernelspec": {
   "display_name": "Python 3",
   "language": "python",
   "name": "python3"
  },
  "language_info": {
   "codemirror_mode": {
    "name": "ipython",
    "version": 3
   },
   "file_extension": ".py",
   "mimetype": "text/x-python",
   "name": "python",
   "nbconvert_exporter": "python",
   "pygments_lexer": "ipython3",
   "version": "3.8.5"
  }
 },
 "nbformat": 4,
 "nbformat_minor": 4
}
